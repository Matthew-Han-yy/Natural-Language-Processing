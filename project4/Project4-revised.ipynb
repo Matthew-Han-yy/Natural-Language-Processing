{
 "cells": [
  {
   "cell_type": "markdown",
   "metadata": {},
   "source": [
    "## Project Objectives/Summary"
   ]
  },
  {
   "cell_type": "markdown",
   "metadata": {},
   "source": [
    "1. This is a **Natural Language Processing (NLP)** project on finding out the trends of the current data science/analytics in the Singapore job market.\n",
    "2. This project tries to find out industry factors that are most important in predicting the salary amounts and the factors that distinguish job categories and titles from each other.\n",
    "3. **Data Mining **: My data was webscrapped as a group project from the following 8 websites: sgintern, efinancialcareers, glassdoor, mycareersfuture, indeed, jobstreet, jobcentral, jobsbank.sg, and stjobs. The interest is in the features of job titles, job descriptions, salary, and hiring companies.\n",
    "4. ** Data Preprocessing **: Data is cleaned and preprocessed before feeding into our model. Techniques include Stemmatizing, Lemmatizing, dropping null salary rows and segmenting joint words.\n",
    "5. ** Data Modelling **: I am using the job description column to predict the salary and job category. Regressors and Classifiers were tested. I used the model with the best scores to determine which are the important keywords. Determination of keywords is done by looking at the coefficients attached to the words, the higher the coefficient means this could be an important keyword.\n",
    "6. **Final Analysis **: I gathered all the important keywords and formulated a possible story around these keywords."
   ]
  },
  {
   "cell_type": "code",
   "execution_count": 1,
   "metadata": {},
   "outputs": [],
   "source": [
    "# Standard Data Science Imports\n",
    "import pandas as pd\n",
    "import numpy as np\n",
    "import matplotlib.pyplot as plt\n",
    "import seaborn as sns\n",
    "from segment.segmenter import Analyzer\n",
    "from textblob import TextBlob, Word\n",
    "\n",
    "%matplotlib inline"
   ]
  },
  {
   "cell_type": "markdown",
   "metadata": {},
   "source": [
    "### Data was webscrapped, saved as .csv format and imported into dataframe."
   ]
  },
  {
   "cell_type": "code",
   "execution_count": 2,
   "metadata": {},
   "outputs": [
    {
     "data": {
      "text/html": [
       "<div>\n",
       "<style scoped>\n",
       "    .dataframe tbody tr th:only-of-type {\n",
       "        vertical-align: middle;\n",
       "    }\n",
       "\n",
       "    .dataframe tbody tr th {\n",
       "        vertical-align: top;\n",
       "    }\n",
       "\n",
       "    .dataframe thead th {\n",
       "        text-align: right;\n",
       "    }\n",
       "</style>\n",
       "<table border=\"1\" class=\"dataframe\">\n",
       "  <thead>\n",
       "    <tr style=\"text-align: right;\">\n",
       "      <th></th>\n",
       "      <th>title</th>\n",
       "      <th>jd</th>\n",
       "      <th>salary</th>\n",
       "      <th>company</th>\n",
       "    </tr>\n",
       "  </thead>\n",
       "  <tbody>\n",
       "    <tr>\n",
       "      <th>0</th>\n",
       "      <td>VP, Business Data Analyst, Enterprise Data Strategy, Data Management Office</td>\n",
       "      <td>VP, Business Data Analyst, Enterprise Data Strategy, Data Management Office    The Data Management Office (DMO)  is a business function that covers Enterprise Data Governance, Data Management, Big Data Analytics and Enterprise Data Strategy. Data Management Office ensures that UOB meets all data governance standards set by data regulators and optimize data management and usage to help UOB make smarter, faster and more accurate decisions and to improve operational efficiency.    Job Description    The Senior Business Data Analyst is the primary liaison between the business and IT. Responsibilities include: leading business users, IT project teams, and external partners to drive decision making and define requirements for application development, ensuring that business needs are being met, defining and negotiating project scope, creating documentation of business requirements which guide application development efforts, working closely with the business team, development team and quality assurance team to ensure successful implementation of business requirements, and working collaboratively with IT and business partners to resolve issues.   Job responsibilities:   Perform analysis of business issues, provide recommendations for possible solutions, work with Business users and IT project teams to drive decision making and define requirements for application development, ensuring that business needs are being met. Responsible for User Acceptance Testing - Work with various team/streams to co-ordinate and orchestral testing efforts where handshakes and testing entry criteria are established. Including executes test cases and development of test scripts, including acceptance criteria. Perform data profiling and gap analysis, source to target mappings, data issue capturing, resolution and escalation. Provide end-to-end project delivery support, including workshop planning, conducting of workshop walkthrough, defect support, continuous validation and assisting with rollout activities. Able to perform complex SQL scripting to meet user' requests Complete documentation for business requirements which guide application development efforts, working closely with the Development team and Business teams to ensure successful implementation of business requirements. Work with IT and Business partners to build support processes and procedures, provide ongoing support to manage application SLA', resolve a majority of the problems and fulfill service requests that do not require application development. Analyze opportunities to improve application reliability, provide recommendations for possible solutions, work with IT and Business partners to implement solutions that enhance application and infrastructure reliability. Assist with the development and maintenance of the business requirements process used to define requirements for systems projects, assist with the definition of project scope and create appropriate scope documentation. Communicates project status and escalates issues as needed.   Job requirements:   Bachelors degree in Business Administration, MIS, or related field and more than 10 years work experience in banking industry, preferably with business / functional knowledge in Risk or Finance domain   Writing and Verbal skills with a meticulous attention to detail, to communicate information effectively to leads, managers, and technical staff   Interpersonal skills, to help negotiate priorities and to resolve conflicts among project stakeholders (such as customers, project management, and technical staff)   Knowledge of architecting and modeling in Systems Integration, Data Warehousing, BI tools, Big Data platforms and experienced in the use of analytical /query tools. Must be able to query and understand database solutions   Extensive experience designing, developing, and documenting data-driven solutions - including capturing architectures, metadata systems, data dictionaries, databases and applications   Organizational skills, to work in a fast-paced environment, on multiple projects and tasks concurrently, while also working with the vast array of information gathered during elicitation and analysis and to cope with rapidly changing information</td>\n",
       "      <td>6000</td>\n",
       "      <td>United Overseas Bank</td>\n",
       "    </tr>\n",
       "    <tr>\n",
       "      <th>1</th>\n",
       "      <td>Data Architect</td>\n",
       "      <td>An exciting Data Architect role has just become available on an initial 12 month contract. The data architect will be supporting a high profile portfolio of programmes at a leading global bank based in Singapore.  About the Data Architect Role:  In this business critical role, you will be tasked to provide vision, leadership, analysis, and design expertise in creating and executing an Enterprise Data Strategy for a portfolio of programmes at the group level. You should own all data modelling aspects of integrating Bank Service Catalogue data with any new data sources specific to the programmes they are covering and support Senior Project Managers in all aspects of data delivery. Key Responsibilities:   Create data strategy for the program based on the banks standard architecture, collaborate with technology and management teams to understand structural requirements and define standards for how data will be stored, consumed, integrated, and managed across the program Develop, maintain, and evangelize data architecture principles, policies and standards Work with business analysts, data office, source system support teams, and other partners to prioritise and drive the data deliverables across multiple data platform efforts such as data acquisition, data modelling, data distribution, data analytics and reporting Work closely with business leaders, proactively communicating and collaborating with them throughout the entire delivery lifecycle Provide leadership and guidance for developing and maintaining data architecture and data quality management framework standards which adhere to industry best practices Articulate the trade-offs, benefits and risks of all architecture and design solutions as in when required. Collaborate closely with technology/data office and business partners to define and implement effective and efficient solutions to business challenges and opportunities that require data management or data analytics involvement Possess strong understanding of data modelling tools and standards, ETL tools, and big data technologies Create a culture of data transparency and data-driven decision making by listening for the pain points and concretely showing how you can solve them Clear and concise communication, interpersonal, organisational and team building skills, business judgement, and proven leadership  To succeed in this Data Architect role, you need strong data management, data analytics and data visualisation expertise. Key Requirements:   10+ years exp hands on data architecture, data integration, business intelligence and data analysis technologies At least 5+ years of exp in leading data delivery teams with architect capacity In-depth understanding of data integration best practices, leading industry applications &amp;amp; features such as master data management, entity resolution, data quality assessment, metadata management etc Strong people management skills, including the ability to provide candid constructive feedback to analysts and project team members with a focus on accountability and development for team and self  Must be comfortable working with all project stakeholders including business users, architects, project managers, business analysts, developers, test analysts, and production support team  Certification in TOGAF highly desired Documentation -Data Strategy/Target Data Architecture/Data Classification/Reference Architecture/Data Quality framework etc Artefacts - Business capability models, future-state architecture , roadmaps , conceptual data models , business context diagrams etc Process/Data Modelling - 'As Is'/'To Be'/ Visio/Enterprise Architect/Erwin, Etc Strong data architecture skills using Big Data (Hive , Spark , HBase , Hadoop , kakfa , Solr) , SQL , NOSQL , Microstrategy or Tableau Presentation Skills - Data Story telling using visualisations is must   This leading global bank needs no introduction and is recognised as the leader in its field. If you fit the above requirements and open to the challenge based on an initial 12 month contract, with view to convert to permanent then please apply today.  Robert Walters (Singapore) Pte Ltd ROC No.: 199706961E | EA Licence No.: 03C5451 EA Registration No.: R1326573 Don Zhao</td>\n",
       "      <td>15000</td>\n",
       "      <td>Robert Walters (Singapore) Pte Ltd</td>\n",
       "    </tr>\n",
       "    <tr>\n",
       "      <th>2</th>\n",
       "      <td>Data Analyst</td>\n",
       "      <td>Leading the way in International Banking. We support the people and companies driving investment, trade and wealth creation across Asia, Africa and the Middle East. And our heritage and values are expressed in our brand promise - here for good. See our Brand and Values  As a Data Analyst, you will be tasked with managing all aspects of any new work/project assessments thoroughly from inception to delivery. You will need to build close working relationships with chief data office to design and implement specific data requirements based on bank' data standards. In addition, as Data Analyst you will also work closely with Project teams, partners and 3rd party vendors.  Key Roles and Responsibilities   * Work closely with business users to understand their data analysis needs/requirements and build specifications that will include clear definition of business value for data analysis, approach for extracting the data required from Golden Sources and definition of business rules/logic.  * This role will require an alignment to the Bank' Data Quality Management Framework to ensure data quality controls, governance and compliance is aligned with the Bank' Data Strategy and Architecture. * Proactively develop use cases for the application of data analytics to meet different business needs. Build data models/scenarios and demonstrate to business the possibilities of generating insights * Partner with system and data owner to establish to document Data Standards of individual critical data attributes.  * Perform data quality controls assessment, identify gaps and follow-up with data owners for remediation.  * Responsible for standard/advanced profiling of data attributes to assess data quality.  * Conduct gap analysis against the established DQMF framework &amp;amp; guidelines to assess levels of adherence.  * Support transition of data quality and data governance capabilities into BAU * You will need to develop a standard set of analytic tools to enable business to perform data analytics  * Provide data readiness reviews before implementation and manage any issues which may arise from this  * Data Visualisation - This role highly require data story telling skills using data visualisation  tools like Microstrategy, Tableau etc.  Qualifications and Skills   * Documentation - Data Dictionary/Data Modelling/Data Lineage/Business Rules/DQ Rules/ Data Standards, Etc.  * Report Types - Gap Analysis/Problem Analysis/Completeness Dashboards, Etc.  * Process/Data Modelling - 'As Is'/'To Be'/ Visio/Enterprise Architect/Erwin, Etc.  * Strong query language skills (SQL , Hive ,HBase , ETL )  * Good experience with Business Intelligence tools and Decision Support Systems  * Strong data analysis skills using Hive , Spark , Python , R , Microstrategy and Tableau. * Proven experience in working with key stakeholders within the business  * Proven problem solving skills  * Proven Experience in Data Management and Data Quality Management techniques.  * Stakeholder Management / Analysis  * Presentation Skills - Data Story telling using visualisations is must  * Soft Skills - Communication/Negotiation/Relationship Building/Influencing  We are committed to building a culture that fosters a diverse and inclusive environment that' free from bias, where everyone can realise their full potential and make a positive contribution. This is just one of our values that is expressed in our brand promise - here for good. Apply Now...</td>\n",
       "      <td>4500</td>\n",
       "      <td>Standard Chartered Bank Singapore</td>\n",
       "    </tr>\n",
       "    <tr>\n",
       "      <th>3</th>\n",
       "      <td>Data Architect</td>\n",
       "      <td>Leading the way in International Banking. We support the people and companies driving investment, trade and wealth creation across Asia, Africa and the Middle East. And our heritage and values are expressed in our brand promise - here for good. See our Brand and Values  The COO Business Services &amp;amp; Controls team require a Data Architect to provide vision, leadership, analysis, and design expertise in creating and executing an Enterprise Data Strategy for Group COO Projects like Information &amp;amp; Cyber security (ICS) transformation in the bank. The successful candidate should own all data modelling aspects of integrating Bank Service Catalogue data with any new data sources specific to ICS and support Senior Project Manager in all aspects of data delivery.  Key Roles and Responsibilities: * Create Data Strategy for ICS Program based on banks standard architecture, collaborate with technology (CDO) and management teams to understand structural requirements and define standards for how data will be stored, consumed, integrated, and managed across the program. * Develop, maintain, and evangelize data architecture principles, policies and standards. * Work with business analysts, CDO, source system support teams, and other partners to prioritize and drive the data deliverables across multiple data platform efforts such as data acquisition, data modelling, data distribution , data analytics and reporting. * Work closely with business leaders, proactively communicating and collaborating with them throughout the entire delivery lifecycle * Provide leadership and guidance for developing and maintaining data architecture and DQMF standards which adhere to industry best practices.  * Articulate the trade-offs, benefits and risks of all architecture and design solutions as in when required. * Collaborate closely with ITO/CDO and business partners to define and implement effective and efficient solutions to business challenges and opportunities that require data management or data analytics involvement.  * Possess strong understanding of data modelling tools and standards, ETL tools, and big data technologies.  * Create a culture of data transparency and data-driven decision making by listening for the pain points and concretely showing how you can solve them;. * Work with the development teams in iterative sprints to implement the model and optimize the performance and scalability of the system through to production * Clear and concise communication, interpersonal, organizational and team building skills, business judgment, and proven leadership * This role highly require candidate with strong data management, data analytics and data visualisation expertise.  Qualifications:  *10+ years exp hands on data architecture, data integration, business intelligence and data analysis technologies * At least 5+ years of exp in leading data delivery teams with architect capacity * In-depth understanding of data integration best practices, leading industry applications &amp;amp; features such as master data management, entity resolution, data quality assessment, metadata management etc. * Strong people management skills, including the ability to provide candid constructive feedback to analysts and project team members with a focus on accountability and development for team and self * Must be comfortable working with all project stakeholders including business users, architects, project managers, business analysts, developers, test analysts, and production support team *Able to creatively apply analytical solutions to business problems and can think out of the box in adapting to changes. *Ability to work under constant pressure to tight deadlines and deliver high quality output. *Certification in TOGAF highly desired. Skills: * Documentation -Data Strategy/Target Data Architecture/Data Classification/Reference Architecture/Data Quality framework etc.  * Artefacts - Business capability models, future-state architecture , roadmaps , conceptual data models , business context diagrams etc.  * Process/Data Modelling - 'As Is'/'To Be'/ Visio/Enterprise Architect/Erwin, Etc.  * Project Management Methodologies - Waterfall SDLC , Agile , Scrum etc. * Strong data architecture skills using Big Data (Hive , Spark , HBase , Hadoop , kakfa , Solr) , SQL , NOSQL , Microstrategy or Tableau. * Experience in building conversational BI / Artificial Intelligence /Machine Learning highly desired. * Proven Experience in Data Architecture , Data Management and Data Quality Management techniques.  * Stakeholder Management / Analysis  * Presentation Skills - Data Story telling using visualisations is must  * Soft Skills - Communication/Negotiation/Relationship Building/Influencing  We are committed to building a culture that fosters a diverse and inclusive environment that' free from bias, where everyone can realise their full potential and make a positive contribution. This is just one of our values that is expressed in our brand promise - here for good. Apply Now...</td>\n",
       "      <td>4500</td>\n",
       "      <td>Standard Chartered Bank Singapore</td>\n",
       "    </tr>\n",
       "    <tr>\n",
       "      <th>4</th>\n",
       "      <td>Data Manager</td>\n",
       "      <td>This role reports to the project lead, Retail Banking Data Management. The successful candidate will adopt best practices and a structured approach towards project management and facilitate country deployment of DQMF policy and procedures enhance data ownership and capabilities of existing team, provide independent assurance of ownership, documentation and controls in RB Data Management process.  Key Roles and Responsibilities * Partner with system and process owner to establish end-to-end lineage of individual data attributes * Perform controls assessment, identify gaps and follow-up with business owners for remediation * Responsible for profiling of data attributes to assess quality * Define and monitor at a sub-work stream level key risk and issues and manage them as defined in PMP * Conduct gap analysis against the established framework &amp;amp; guidelines to assess levels of adherence. * Work closely with the system SMEs to implement / enhance data quality controls and documentation. * Support transition of data quality and data governance capabilities into BAU Qualifications and Skills * Degree in Accounting, Statistics, or Computer Science specializing in Information Management, or equivalent &amp;amp; PM certifications required (PMP/CAPM etc) * 7-10 years of work experience in Banking domain involving one or more of the following: Core Banking, Cards &amp;amp; Lending products, Client on boarding or Due diligence, Regulatory or Internal reporting, sanctions/ anti-money-laundering, Risk Management (Market, Credit or Operational), Data Governance or IT or data analysis/ profiling roles supporting the above areas * Strong MS Office skills required. Knowledge and experience of SQL, experience of working with data profiling and metadata tools will be added advantage * Strong communication skills - oral, written and presentation. Able to manage communications at senior level with process owners and reporting owners in Retail Banking on matters regarding data management * Able to work independently and familiar with SCB systems and processes * Experience of working with data profiling and metadata tools  What you can expect from the role: * Challenging deadlines. * Interconnected delivery streams requiring on-the-ground programme management expertise to effectively manage dependencies, critical path &amp;amp; interlocks * Significantly high numbers of stakeholders with diverse viewpoints on data quality &amp;amp; levels of controls required within respective functions. * Countless conversations and negotiations with multiple stakeholders across multiple locations. * Satisfaction in delivering against a key objective for the Group.</td>\n",
       "      <td>4500</td>\n",
       "      <td>Standard Chartered Bank Singapore</td>\n",
       "    </tr>\n",
       "  </tbody>\n",
       "</table>\n",
       "</div>"
      ],
      "text/plain": [
       "                                                                         title  \\\n",
       "0  VP, Business Data Analyst, Enterprise Data Strategy, Data Management Office   \n",
       "1                                                               Data Architect   \n",
       "2                                                                 Data Analyst   \n",
       "3                                                               Data Architect   \n",
       "4                                                                 Data Manager   \n",
       "\n",
       "                                                                                                                                                                                                                                                                                                                                                                                                                                                                                                                                                                                                                                                                                                                                                                                                                                                                                                                                                                                                                                                                                                                                                                                                                                                                                                                                                                                                                                                                                                                                                                                                                                                                                                                                                                                                                                                                                                                                                                                                                                                                                                                                                                                                                                                                                                                                                                                                                                                                                                                                                                                                                                                                                                                                                                                                                                                                                                                                                                                                                                                                                                                                                                                                                                                                                                                                                                                                                                                                                                                                                                                                                                                                                                                                                                                                                                                                                                                                                                                                                                                                                                                                                                                                                                                                                                                                                                                                                                                                                                                                                                                                                                                                                                                                                                                                                                                                                                                                                                                                                                                                                                                                                                                                                           jd  \\\n",
       "0                                                                                                                                                                                                                                                                                                                                                                                                                                                                                                                                                                                                                                                                                                                                                                                                                              VP, Business Data Analyst, Enterprise Data Strategy, Data Management Office    The Data Management Office (DMO)  is a business function that covers Enterprise Data Governance, Data Management, Big Data Analytics and Enterprise Data Strategy. Data Management Office ensures that UOB meets all data governance standards set by data regulators and optimize data management and usage to help UOB make smarter, faster and more accurate decisions and to improve operational efficiency.    Job Description    The Senior Business Data Analyst is the primary liaison between the business and IT. Responsibilities include: leading business users, IT project teams, and external partners to drive decision making and define requirements for application development, ensuring that business needs are being met, defining and negotiating project scope, creating documentation of business requirements which guide application development efforts, working closely with the business team, development team and quality assurance team to ensure successful implementation of business requirements, and working collaboratively with IT and business partners to resolve issues.   Job responsibilities:   Perform analysis of business issues, provide recommendations for possible solutions, work with Business users and IT project teams to drive decision making and define requirements for application development, ensuring that business needs are being met. Responsible for User Acceptance Testing - Work with various team/streams to co-ordinate and orchestral testing efforts where handshakes and testing entry criteria are established. Including executes test cases and development of test scripts, including acceptance criteria. Perform data profiling and gap analysis, source to target mappings, data issue capturing, resolution and escalation. Provide end-to-end project delivery support, including workshop planning, conducting of workshop walkthrough, defect support, continuous validation and assisting with rollout activities. Able to perform complex SQL scripting to meet user' requests Complete documentation for business requirements which guide application development efforts, working closely with the Development team and Business teams to ensure successful implementation of business requirements. Work with IT and Business partners to build support processes and procedures, provide ongoing support to manage application SLA', resolve a majority of the problems and fulfill service requests that do not require application development. Analyze opportunities to improve application reliability, provide recommendations for possible solutions, work with IT and Business partners to implement solutions that enhance application and infrastructure reliability. Assist with the development and maintenance of the business requirements process used to define requirements for systems projects, assist with the definition of project scope and create appropriate scope documentation. Communicates project status and escalates issues as needed.   Job requirements:   Bachelors degree in Business Administration, MIS, or related field and more than 10 years work experience in banking industry, preferably with business / functional knowledge in Risk or Finance domain   Writing and Verbal skills with a meticulous attention to detail, to communicate information effectively to leads, managers, and technical staff   Interpersonal skills, to help negotiate priorities and to resolve conflicts among project stakeholders (such as customers, project management, and technical staff)   Knowledge of architecting and modeling in Systems Integration, Data Warehousing, BI tools, Big Data platforms and experienced in the use of analytical /query tools. Must be able to query and understand database solutions   Extensive experience designing, developing, and documenting data-driven solutions - including capturing architectures, metadata systems, data dictionaries, databases and applications   Organizational skills, to work in a fast-paced environment, on multiple projects and tasks concurrently, while also working with the vast array of information gathered during elicitation and analysis and to cope with rapidly changing information      \n",
       "1                                                                                                                                                                                                                                                                                                                                                                                                                                                                                                                                                                                                                                                                                                                                                                                                              An exciting Data Architect role has just become available on an initial 12 month contract. The data architect will be supporting a high profile portfolio of programmes at a leading global bank based in Singapore.  About the Data Architect Role:  In this business critical role, you will be tasked to provide vision, leadership, analysis, and design expertise in creating and executing an Enterprise Data Strategy for a portfolio of programmes at the group level. You should own all data modelling aspects of integrating Bank Service Catalogue data with any new data sources specific to the programmes they are covering and support Senior Project Managers in all aspects of data delivery. Key Responsibilities:   Create data strategy for the program based on the banks standard architecture, collaborate with technology and management teams to understand structural requirements and define standards for how data will be stored, consumed, integrated, and managed across the program Develop, maintain, and evangelize data architecture principles, policies and standards Work with business analysts, data office, source system support teams, and other partners to prioritise and drive the data deliverables across multiple data platform efforts such as data acquisition, data modelling, data distribution, data analytics and reporting Work closely with business leaders, proactively communicating and collaborating with them throughout the entire delivery lifecycle Provide leadership and guidance for developing and maintaining data architecture and data quality management framework standards which adhere to industry best practices Articulate the trade-offs, benefits and risks of all architecture and design solutions as in when required. Collaborate closely with technology/data office and business partners to define and implement effective and efficient solutions to business challenges and opportunities that require data management or data analytics involvement Possess strong understanding of data modelling tools and standards, ETL tools, and big data technologies Create a culture of data transparency and data-driven decision making by listening for the pain points and concretely showing how you can solve them Clear and concise communication, interpersonal, organisational and team building skills, business judgement, and proven leadership  To succeed in this Data Architect role, you need strong data management, data analytics and data visualisation expertise. Key Requirements:   10+ years exp hands on data architecture, data integration, business intelligence and data analysis technologies At least 5+ years of exp in leading data delivery teams with architect capacity In-depth understanding of data integration best practices, leading industry applications &amp; features such as master data management, entity resolution, data quality assessment, metadata management etc Strong people management skills, including the ability to provide candid constructive feedback to analysts and project team members with a focus on accountability and development for team and self  Must be comfortable working with all project stakeholders including business users, architects, project managers, business analysts, developers, test analysts, and production support team  Certification in TOGAF highly desired Documentation -Data Strategy/Target Data Architecture/Data Classification/Reference Architecture/Data Quality framework etc Artefacts - Business capability models, future-state architecture , roadmaps , conceptual data models , business context diagrams etc Process/Data Modelling - 'As Is'/'To Be'/ Visio/Enterprise Architect/Erwin, Etc Strong data architecture skills using Big Data (Hive , Spark , HBase , Hadoop , kakfa , Solr) , SQL , NOSQL , Microstrategy or Tableau Presentation Skills - Data Story telling using visualisations is must   This leading global bank needs no introduction and is recognised as the leader in its field. If you fit the above requirements and open to the challenge based on an initial 12 month contract, with view to convert to permanent then please apply today.  Robert Walters (Singapore) Pte Ltd ROC No.: 199706961E | EA Licence No.: 03C5451 EA Registration No.: R1326573 Don Zhao       \n",
       "2                                                                                                                                                                                                                                                                                                                                                                                                                                                                                                                                                                                                                                                                                                                                                                                                                                                                                                                                                                                                                                                                                                                                                                                                                                                                                                                                                                                                                                                                                                                                                                                                                              Leading the way in International Banking. We support the people and companies driving investment, trade and wealth creation across Asia, Africa and the Middle East. And our heritage and values are expressed in our brand promise - here for good. See our Brand and Values  As a Data Analyst, you will be tasked with managing all aspects of any new work/project assessments thoroughly from inception to delivery. You will need to build close working relationships with chief data office to design and implement specific data requirements based on bank' data standards. In addition, as Data Analyst you will also work closely with Project teams, partners and 3rd party vendors.  Key Roles and Responsibilities   * Work closely with business users to understand their data analysis needs/requirements and build specifications that will include clear definition of business value for data analysis, approach for extracting the data required from Golden Sources and definition of business rules/logic.  * This role will require an alignment to the Bank' Data Quality Management Framework to ensure data quality controls, governance and compliance is aligned with the Bank' Data Strategy and Architecture. * Proactively develop use cases for the application of data analytics to meet different business needs. Build data models/scenarios and demonstrate to business the possibilities of generating insights * Partner with system and data owner to establish to document Data Standards of individual critical data attributes.  * Perform data quality controls assessment, identify gaps and follow-up with data owners for remediation.  * Responsible for standard/advanced profiling of data attributes to assess data quality.  * Conduct gap analysis against the established DQMF framework &amp; guidelines to assess levels of adherence.  * Support transition of data quality and data governance capabilities into BAU * You will need to develop a standard set of analytic tools to enable business to perform data analytics  * Provide data readiness reviews before implementation and manage any issues which may arise from this  * Data Visualisation - This role highly require data story telling skills using data visualisation  tools like Microstrategy, Tableau etc.  Qualifications and Skills   * Documentation - Data Dictionary/Data Modelling/Data Lineage/Business Rules/DQ Rules/ Data Standards, Etc.  * Report Types - Gap Analysis/Problem Analysis/Completeness Dashboards, Etc.  * Process/Data Modelling - 'As Is'/'To Be'/ Visio/Enterprise Architect/Erwin, Etc.  * Strong query language skills (SQL , Hive ,HBase , ETL )  * Good experience with Business Intelligence tools and Decision Support Systems  * Strong data analysis skills using Hive , Spark , Python , R , Microstrategy and Tableau. * Proven experience in working with key stakeholders within the business  * Proven problem solving skills  * Proven Experience in Data Management and Data Quality Management techniques.  * Stakeholder Management / Analysis  * Presentation Skills - Data Story telling using visualisations is must  * Soft Skills - Communication/Negotiation/Relationship Building/Influencing  We are committed to building a culture that fosters a diverse and inclusive environment that' free from bias, where everyone can realise their full potential and make a positive contribution. This is just one of our values that is expressed in our brand promise - here for good. Apply Now...        \n",
       "3    Leading the way in International Banking. We support the people and companies driving investment, trade and wealth creation across Asia, Africa and the Middle East. And our heritage and values are expressed in our brand promise - here for good. See our Brand and Values  The COO Business Services &amp; Controls team require a Data Architect to provide vision, leadership, analysis, and design expertise in creating and executing an Enterprise Data Strategy for Group COO Projects like Information &amp; Cyber security (ICS) transformation in the bank. The successful candidate should own all data modelling aspects of integrating Bank Service Catalogue data with any new data sources specific to ICS and support Senior Project Manager in all aspects of data delivery.  Key Roles and Responsibilities: * Create Data Strategy for ICS Program based on banks standard architecture, collaborate with technology (CDO) and management teams to understand structural requirements and define standards for how data will be stored, consumed, integrated, and managed across the program. * Develop, maintain, and evangelize data architecture principles, policies and standards. * Work with business analysts, CDO, source system support teams, and other partners to prioritize and drive the data deliverables across multiple data platform efforts such as data acquisition, data modelling, data distribution , data analytics and reporting. * Work closely with business leaders, proactively communicating and collaborating with them throughout the entire delivery lifecycle * Provide leadership and guidance for developing and maintaining data architecture and DQMF standards which adhere to industry best practices.  * Articulate the trade-offs, benefits and risks of all architecture and design solutions as in when required. * Collaborate closely with ITO/CDO and business partners to define and implement effective and efficient solutions to business challenges and opportunities that require data management or data analytics involvement.  * Possess strong understanding of data modelling tools and standards, ETL tools, and big data technologies.  * Create a culture of data transparency and data-driven decision making by listening for the pain points and concretely showing how you can solve them;. * Work with the development teams in iterative sprints to implement the model and optimize the performance and scalability of the system through to production * Clear and concise communication, interpersonal, organizational and team building skills, business judgment, and proven leadership * This role highly require candidate with strong data management, data analytics and data visualisation expertise.  Qualifications:  *10+ years exp hands on data architecture, data integration, business intelligence and data analysis technologies * At least 5+ years of exp in leading data delivery teams with architect capacity * In-depth understanding of data integration best practices, leading industry applications &amp; features such as master data management, entity resolution, data quality assessment, metadata management etc. * Strong people management skills, including the ability to provide candid constructive feedback to analysts and project team members with a focus on accountability and development for team and self * Must be comfortable working with all project stakeholders including business users, architects, project managers, business analysts, developers, test analysts, and production support team *Able to creatively apply analytical solutions to business problems and can think out of the box in adapting to changes. *Ability to work under constant pressure to tight deadlines and deliver high quality output. *Certification in TOGAF highly desired. Skills: * Documentation -Data Strategy/Target Data Architecture/Data Classification/Reference Architecture/Data Quality framework etc.  * Artefacts - Business capability models, future-state architecture , roadmaps , conceptual data models , business context diagrams etc.  * Process/Data Modelling - 'As Is'/'To Be'/ Visio/Enterprise Architect/Erwin, Etc.  * Project Management Methodologies - Waterfall SDLC , Agile , Scrum etc. * Strong data architecture skills using Big Data (Hive , Spark , HBase , Hadoop , kakfa , Solr) , SQL , NOSQL , Microstrategy or Tableau. * Experience in building conversational BI / Artificial Intelligence /Machine Learning highly desired. * Proven Experience in Data Architecture , Data Management and Data Quality Management techniques.  * Stakeholder Management / Analysis  * Presentation Skills - Data Story telling using visualisations is must  * Soft Skills - Communication/Negotiation/Relationship Building/Influencing  We are committed to building a culture that fosters a diverse and inclusive environment that' free from bias, where everyone can realise their full potential and make a positive contribution. This is just one of our values that is expressed in our brand promise - here for good. Apply Now...       \n",
       "4                                                                                                                                                                                                                                                                                                                                                                                                                                                                                                                                                                                                                                                                                                                                                                                                                                                                                                                                                                                                                                                                                                                                                                                                                                                                                                                                                                                                                                                                                                                                                                                                                                                                                                                                                                                                                                                                                                                                                                                                                                                                                                                                                                                                                                                                                                                                                                                                                                                  This role reports to the project lead, Retail Banking Data Management. The successful candidate will adopt best practices and a structured approach towards project management and facilitate country deployment of DQMF policy and procedures enhance data ownership and capabilities of existing team, provide independent assurance of ownership, documentation and controls in RB Data Management process.  Key Roles and Responsibilities * Partner with system and process owner to establish end-to-end lineage of individual data attributes * Perform controls assessment, identify gaps and follow-up with business owners for remediation * Responsible for profiling of data attributes to assess quality * Define and monitor at a sub-work stream level key risk and issues and manage them as defined in PMP * Conduct gap analysis against the established framework &amp; guidelines to assess levels of adherence. * Work closely with the system SMEs to implement / enhance data quality controls and documentation. * Support transition of data quality and data governance capabilities into BAU Qualifications and Skills * Degree in Accounting, Statistics, or Computer Science specializing in Information Management, or equivalent &amp; PM certifications required (PMP/CAPM etc) * 7-10 years of work experience in Banking domain involving one or more of the following: Core Banking, Cards &amp; Lending products, Client on boarding or Due diligence, Regulatory or Internal reporting, sanctions/ anti-money-laundering, Risk Management (Market, Credit or Operational), Data Governance or IT or data analysis/ profiling roles supporting the above areas * Strong MS Office skills required. Knowledge and experience of SQL, experience of working with data profiling and metadata tools will be added advantage * Strong communication skills - oral, written and presentation. Able to manage communications at senior level with process owners and reporting owners in Retail Banking on matters regarding data management * Able to work independently and familiar with SCB systems and processes * Experience of working with data profiling and metadata tools  What you can expect from the role: * Challenging deadlines. * Interconnected delivery streams requiring on-the-ground programme management expertise to effectively manage dependencies, critical path &amp; interlocks * Significantly high numbers of stakeholders with diverse viewpoints on data quality &amp; levels of controls required within respective functions. * Countless conversations and negotiations with multiple stakeholders across multiple locations. * Satisfaction in delivering against a key objective for the Group.         \n",
       "\n",
       "  salary                             company  \n",
       "0   6000                United Overseas Bank  \n",
       "1  15000  Robert Walters (Singapore) Pte Ltd  \n",
       "2   4500   Standard Chartered Bank Singapore  \n",
       "3   4500   Standard Chartered Bank Singapore  \n",
       "4   4500   Standard Chartered Bank Singapore  "
      ]
     },
     "execution_count": 2,
     "metadata": {},
     "output_type": "execute_result"
    }
   ],
   "source": [
    "column_names = ['title', 'jd', 'salary', 'company']\n",
    "df = pd.read_csv('combined3.csv')\n",
    "df.columns = column_names\n",
    "pd.set_option('max_colwidth', 10000)\n",
    "df.head()"
   ]
  },
  {
   "cell_type": "code",
   "execution_count": 3,
   "metadata": {},
   "outputs": [
    {
     "data": {
      "text/plain": [
       "(1506, 4)"
      ]
     },
     "execution_count": 3,
     "metadata": {},
     "output_type": "execute_result"
    }
   ],
   "source": [
    "df.shape"
   ]
  },
  {
   "cell_type": "markdown",
   "metadata": {},
   "source": [
    "## Natural Language Processing section"
   ]
  },
  {
   "cell_type": "markdown",
   "metadata": {},
   "source": [
    "### Data Cleaning and Preprocessing"
   ]
  },
  {
   "cell_type": "code",
   "execution_count": 4,
   "metadata": {},
   "outputs": [],
   "source": [
    "# Import NLP libraries. \n",
    "import re\n",
    "import nltk\n",
    "from nltk.corpus import stopwords\n",
    "from nltk.stem.porter import PorterStemmer"
   ]
  },
  {
   "cell_type": "markdown",
   "metadata": {},
   "source": [
    "#### Stemming Function "
   ]
  },
  {
   "cell_type": "code",
   "execution_count": 5,
   "metadata": {},
   "outputs": [],
   "source": [
    "from textblob import TextBlob\n",
    "ps = PorterStemmer()\n",
    "\n",
    "# def stemming(text):\n",
    "#     atomic = TextBlob(text)\n",
    "#     clean = [ps.stem(word) for word in atomic if word not in set(stopwords.words('english'))]\n",
    "#     result = ' '.join(clean)\n",
    "#     return result\n",
    "\n",
    "def stemming(text):\n",
    "    for word in text:\n",
    "        if word not in set(stopwords.words('english')):\n",
    "            clean = ps.stem(word)\n",
    "            result = ' '.join(clean)\n",
    "    return result\n",
    "\n"
   ]
  },
  {
   "cell_type": "markdown",
   "metadata": {},
   "source": [
    "#### Lemmatizing Function"
   ]
  },
  {
   "cell_type": "code",
   "execution_count": 6,
   "metadata": {},
   "outputs": [],
   "source": [
    "def split_into_lemmas(text):\n",
    "    text = text.lower()\n",
    "    words = TextBlob(text).words\n",
    "    for word in words:\n",
    "        lemmatized = word.lemmatize()\n",
    "    return lemmatized"
   ]
  },
  {
   "cell_type": "markdown",
   "metadata": {},
   "source": [
    "#### Drop rows with salary == 'Not Specified'."
   ]
  },
  {
   "cell_type": "code",
   "execution_count": 7,
   "metadata": {},
   "outputs": [],
   "source": [
    "df = df[ (df['salary'] == 'Not Specified') == False ]"
   ]
  },
  {
   "cell_type": "code",
   "execution_count": 8,
   "metadata": {
    "scrolled": true
   },
   "outputs": [
    {
     "name": "stdout",
     "output_type": "stream",
     "text": [
      "<class 'pandas.core.frame.DataFrame'>\n",
      "Int64Index: 1147 entries, 0 to 1421\n",
      "Data columns (total 4 columns):\n",
      "title      1147 non-null object\n",
      "jd         1147 non-null object\n",
      "salary     1147 non-null float64\n",
      "company    1147 non-null object\n",
      "dtypes: float64(1), object(3)\n",
      "memory usage: 44.8+ KB\n"
     ]
    }
   ],
   "source": [
    "# Change the salary column type to float\n",
    "df['salary'] = df['salary'].astype('float')\n",
    "df.info()"
   ]
  },
  {
   "cell_type": "markdown",
   "metadata": {},
   "source": [
    "#### Converting the columns into the right format. "
   ]
  },
  {
   "cell_type": "code",
   "execution_count": 9,
   "metadata": {},
   "outputs": [],
   "source": [
    "df['title'] = df['title'].apply(lambda x : str(x))\n",
    "df['title'] = df['title'].apply(lambda x : x.decode('utf-8'))\n",
    "\n",
    "df['company'] = df['company'].apply(lambda x : str(x))\n",
    "df['company'] = df['company'].apply(lambda x : x.decode('utf-8'))\n",
    "\n",
    "df['jd'] = df['jd'].apply(lambda x : str(x))\n",
    "df['jd'] = df['jd'].apply(lambda x : x.decode('utf-8'))\n",
    "df['jd'] = df['jd'].apply(lambda x: re.sub('[^a-zA-Z]', ' ', x))\n",
    "#df['jd'] = df['jd'].apply(lambda x : stemming(x))"
   ]
  },
  {
   "cell_type": "markdown",
   "metadata": {},
   "source": [
    "#### Taking the job description column as our X, and the salary column as our y."
   ]
  },
  {
   "cell_type": "code",
   "execution_count": 10,
   "metadata": {},
   "outputs": [],
   "source": [
    "X = df['jd']"
   ]
  },
  {
   "cell_type": "code",
   "execution_count": 11,
   "metadata": {},
   "outputs": [],
   "source": [
    "y = df.salary.values"
   ]
  },
  {
   "cell_type": "markdown",
   "metadata": {},
   "source": [
    "#### Split those words that are joined together"
   ]
  },
  {
   "cell_type": "code",
   "execution_count": 12,
   "metadata": {},
   "outputs": [
    {
     "data": {
      "text/plain": [
       "[u'abilities', u'good']"
      ]
     },
     "execution_count": 12,
     "metadata": {},
     "output_type": "execute_result"
    }
   ],
   "source": [
    "e = Analyzer('en')\n",
    "e.segment(u'abilitiesgood')"
   ]
  },
  {
   "cell_type": "code",
   "execution_count": 13,
   "metadata": {},
   "outputs": [],
   "source": [
    "def split_words(sentence):\n",
    "    final = []\n",
    "    sent = TextBlob(sentence)\n",
    "    atomic = [e.segment(w) for w in sent.words]\n",
    "    for atom in atomic:\n",
    "        for char in atom:\n",
    "            final.append(char)\n",
    "    final = \" \".join(final)\n",
    "    return final"
   ]
  },
  {
   "cell_type": "code",
   "execution_count": 14,
   "metadata": {},
   "outputs": [],
   "source": [
    "X = X.apply(split_words)"
   ]
  },
  {
   "cell_type": "code",
   "execution_count": 15,
   "metadata": {},
   "outputs": [
    {
     "data": {
      "text/plain": [
       "0                                                                                                                                                                                                                                                                                                                                                                                                                                                                                                                                                                                                                                                                                                                       VP Business Data Analyst Enterprise Data Strategy Data Management Office The Data Management Office DMO is a business function that covers Enterprise Data Governance Data Management Big Data Analytics and Enterprise Data Strategy Data Management Office ensures that UO B meets all data governance standards set by data regulators and optimize data management and usage to help UO B make smarter faster and more accurate decisions and to improve operational efficiency Job Description The Senior Business Data Analyst is the primary liaison between the business and I T Responsibilities include leading business users I T project teams and external partners to drive decision making and define requirements for application development ensuring that business needs are being met defining and negotiating project scope creating documentation of business requirements which guide application development efforts working closely with the business team development team and quality assurance team to ensure successful implementation of business requirements and working collaboratively with I T and business partners to resolve issues Job responsibilities Perform analysis of business issues provide recommendations for possible solutions work with Business users and I T project teams to drive decision making and define requirements for application development ensuring that business needs are being met Responsible for User Acceptance Testing Work with various team streams to co ordinate and orchestral testing efforts where handshake s and testing entry criteria are established Including executes test cases and development of test scripts including acceptance criteria Perform data profiling and gap analysis source to target mappings data issue capturing resolution and escalation Provide end to end project delivery support including workshop planning conducting of workshop walkthrough defect support continuous validation and assisting with rollout activities Able to perform complex SQL scripting to meet user requests Complete documentation for business requirements which guide application development efforts working closely with the Development team and Business teams to ensure successful implementation of business requirements Work with I T and Business partners to build support processes and procedures provide ongoing support to manage application SLA resolve a majority of the problems and fulfill service requests that do not require application development Analyze opportunities to improve application reliability provide recommendations for possible solutions work with I T and Business partners to implement solutions that enhance application and infrastructure reliability Assist with the development and maintenance of the business requirements process used to define requirements for systems projects assist with the definition of project scope and create appropriate scope documentation Communicates project status and escalate s issues as needed Job requirements Bachelors degree in Business Administration MIS or related field and more than years work experience in banking industry preferably with business functional knowledge in Risk or Finance domain Writing and Verbal skills with a meticulous attention to detail to communicate information effectively to leads managers and technical staff Interpersonal skills to help negotiate priorities and to resolve conflicts among project stakeholders such as customers project management and technical staff Knowledge of architect ing and modeling in Systems Integration Data Warehousing BI tools Big Data platforms and experienced in the use of analytical query tools Must be able to query and understand database solutions Extensive experience designing developing and documenting data driven solutions including capturing architectures metadata systems data dictionaries databases and applications Organizational skills to work in a fast paced environment on multiple projects and tasks concurrently while also working with the vast array of information gathered during elicit ation and analysis and to cope with rapidly changing information\n",
       "1                                                                                                                                                                                                                                                                                                                                                                                                                                                                                                                                                                                                                                                                                                                                        An exciting Data Architect role has just become available on an initial month contract The data architect will be supporting a high profile portfolio of programmes a t a leading global bank based in Singapore About the Data Architect Role In this business critical role you will be tasked to provide vision leadership analysis and design expertise in creating and executing an Enterprise Data Strategy for a portfolio of programmes a t the group level You should own all data modelling aspects of integrating Bank Service Catalogue data with any new data sources specific to the programmes they are covering and support Senior Project Managers in all aspects of data delivery Key Responsibilities Create data strategy for the program based on the banks standard architecture collaborate with technology and management teams to understand structural requirements and define standards for how data will be stored consumed integrated and managed across the program Develop maintain and evan gel i ze data architecture principles policies and standards Work with business analysts data office source system support teams and other partners to prioritise and drive the data deliverables across multiple data platform efforts such as data acquisition data modelling data distribution data analytics and reporting Work closely with business leaders proactively communicating and collaborating with them throughout the entire delivery lifecycle Provide leadership and guidance for developing and maintaining data architecture and data quality management framework standards which adhere to industry best practices Articulate the trade offs benefits and risks of all architecture and design solutions as in when required Collaborate closely with technology data office and business partners to define and implement effective and efficient solutions to business challenges and opportunities that require data management or data analytics involvement Possess strong understanding of data modelling tools and standards ETL tools and big data technologies Create a culture of data transparency and data driven decision making by listening for the pain points and concrete ly showing how you can solve them Clear and concise communication interpersonal organisational and team building skills business judgement and proven leadership To succeed in this Data Architect role you need strong data management data analytics and data visualisation expertise Key Requirements years exp hands on data architecture data integration business intelligence and data analysis technologies A t least years of exp in leading data delivery teams with architect capacity In depth understanding of data integration best practices leading industry applications amp features such as master data management entity resolution data quality assessment metadata management etc Strong people management skills including the ability to provide candid constructive feedback to analysts and project team members with a focus on accountability and development for team and self Must be comfortable working with all project stakeholders including business users architects project managers business analysts developers test analysts and production support team Certification in TO GAF highly desired Documentation Data Strategy Target Data Architecture Data Classification Reference Architecture Data Quality framework etc Artefacts Business capability models future state architecture roadmap s conceptual data models business context diagrams etc Process Data Modelling As Is To Be Visio Enterprise Architect Erwin Etc Strong data architecture skills using Big Data Hive Spark H Base Had oop ka kf a Sol r SQL NO SQL Microstrategy or Tableau Presentation Skills Data Story telling using visualisation s is must This leading global bank needs no introduction and is recognised as the leader in its field If you fit the above requirements and open to the challenge based on an initial month contract with view to convert to permanent then please apply today Robert Walters Singapore Pte Ltd ROC No E EA Licence No C EA Registration No R Don Zhao\n",
       "2                                                                                                                                                                                                                                                                                                                                                                                                                                                                                                                                                                                                                                                                                                                                                                                                                                                                                                                                                                                                                                                                                                                                                                                                                                                                                                                                                                                                                                                                                                                                                                           Leading the way in International Banking We support the people and companies driving investment trade and wealth creation across Asia Africa and the Middle East And our heritage and values are expressed in our brand promise here for good See our Brand and Values As a Data Analyst you will be tasked with managing all aspects of any new work project assessments thoroughly from inception to delivery You will need to build close working relationships with chief data office to design and implement specific data requirements based on bank data standards In addition as Data Analyst you will also work closely with Project teams partners and rd party vendors Key Roles and Responsibilities Work closely with business users to understand their data analysis needs requirements and build specifications that will include clear definition of business value for data analysis approach for extracting the data required from Golden Sources and definition of business rules logic This role will require an alignment to the Bank Data Quality Management Framework to ensure data quality controls governance and compliance is aligned with the Bank Data Strategy and Architecture Proactively develop use cases for the application of data analytics to meet different business needs Build data models scenarios and demonstrate to business the possibilities of generating insights Partner with system and data owner to establish to document Data Standards of individual critical data attributes Perform data quality controls assessment identify gaps and follow up with data owners for remediation Responsible for standard advanced profiling of data attributes to assess data quality Conduct gap analysis against the established DQ MF framework amp guidelines to assess levels of adherence Support transition of data quality and data governance capabilities into B AU You will need to develop a standard set of analytic tools to enable business to perform data analytics Provide data readiness reviews before implementation and manage any issues which may arise from this Data Visualisation This role highly require data story telling skills using data visualisation tools like Microstrategy Tableau etc Qualifications and Skills Documentation Data Dictionary Data Modelling Data Lineage Business Rules DQ Rules Data Standards Etc Report Types Gap Analysis Problem Analysis Completeness Dashboard s Etc Process Data Modelling As Is To Be Visio Enterprise Architect Erwin Etc Strong query language skills SQL Hive H Base ETL Good experience with Business Intelligence tools and Decision Support Systems Strong data analysis skills using Hive Spark Python R Microstrategy and Tableau Proven experience in working with key stakeholders within the business Proven problem solving skills Proven Experience in Data Management and Data Quality Management techniques Stakeholder Management Analysis Presentation Skills Data Story telling using visualisation s is must Soft Skills Communication Negotiation Relationship Building Influencing We are committed to building a culture that fosters a diverse and inclusive environment that free from bias where everyone can realise their full potential and make a positive contribution This is just one of our values that is expressed in our brand promise here for good Apply Now\n",
       "3    Leading the way in International Banking We support the people and companies driving investment trade and wealth creation across Asia Africa and the Middle East And our heritage and values are expressed in our brand promise here for good See our Brand and Values The COO Business Services amp Controls team require a Data Architect to provide vision leadership analysis and design expertise in creating and executing an Enterprise Data Strategy for Group COO Projects like Information amp Cyber security ICS transformation in the bank The successful candidate should own all data modelling aspects of integrating Bank Service Catalogue data with any new data sources specific to ICS and support Senior Project Manager in all aspects of data delivery Key Roles and Responsibilities Create Data Strategy for ICS Program based on banks standard architecture collaborate with technology CDO and management teams to understand structural requirements and define standards for how data will be stored consumed integrated and managed across the program Develop maintain and evan gel i ze data architecture principles policies and standards Work with business analysts CDO source system support teams and other partners to prioritize and drive the data deliverables across multiple data platform efforts such as data acquisition data modelling data distribution data analytics and reporting Work closely with business leaders proactively communicating and collaborating with them throughout the entire delivery lifecycle Provide leadership and guidance for developing and maintaining data architecture and DQ MF standards which adhere to industry best practices Articulate the trade offs benefits and risks of all architecture and design solutions as in when required Collaborate closely with I TO CDO and business partners to define and implement effective and efficient solutions to business challenges and opportunities that require data management or data analytics involvement Possess strong understanding of data modelling tools and standards ETL tools and big data technologies Create a culture of data transparency and data driven decision making by listening for the pain points and concrete ly showing how you can solve them Work with the development teams in iterative sprints to implement the model and optimize the performance and scalability of the system through to production Clear and concise communication interpersonal organizational and team building skills business judgment and proven leadership This role highly require candidate with strong data management data analytics and data visualisation expertise Qualifications years exp hands on data architecture data integration business intelligence and data analysis technologies A t least years of exp in leading data delivery teams with architect capacity In depth understanding of data integration best practices leading industry applications amp features such as master data management entity resolution data quality assessment metadata management etc Strong people management skills including the ability to provide candid constructive feedback to analysts and project team members with a focus on accountability and development for team and self Must be comfortable working with all project stakeholders including business users architects project managers business analysts developers test analysts and production support team Able to creatively apply analytical solutions to business problems and can think out of the box in adapting to changes Ability to work under constant pressure to tight deadlines and deliver high quality output Certification in TO GAF highly desired Skills Documentation Data Strategy Target Data Architecture Data Classification Reference Architecture Data Quality framework etc Artefacts Business capability models future state architecture roadmap s conceptual data models business context diagrams etc Process Data Modelling As Is To Be Visio Enterprise Architect Erwin Etc Project Management Methodologies Waterfall SDL C Agile S crum etc Strong data architecture skills using Big Data Hive Spark H Base Had oop ka kf a Sol r SQL NO SQL Microstrategy or Tableau Experience in building conversational BI Artificial Intelligence Machine Learning highly desired Proven Experience in Data Architecture Data Management and Data Quality Management techniques Stakeholder Management Analysis Presentation Skills Data Story telling using visualisation s is must Soft Skills Communication Negotiation Relationship Building Influencing We are committed to building a culture that fosters a diverse and inclusive environment that free from bias where everyone can realise their full potential and make a positive contribution This is just one of our values that is expressed in our brand promise here for good Apply Now\n",
       "4                                                                                                                                                                                                                                                                                                                                                                                                                                                                                                                                                                                                                                                                                                                                                                                                                                                                                                                                                                                                                                                                                                                                                                                                                                                                                                                                                                                                                                                                                                                                                                                                                                                                                                                                                                                                                                                                                                                                                                                                                                                                                                                                                                                                                                                                                                                             This role reports to the project lead Retail Banking Data Management The successful candidate will adopt best practices and a structured approach towards project management and facilitate country deployment of DQ MF policy and procedures enhance data ownership and capabilities of existing team provide independent assurance of ownership documentation and controls in RB Data Management process Key Roles and Responsibilities Partner with system and process owner to establish end to end lineage of individual data attributes Perform controls assessment identify gaps and follow up with business owners for remediation Responsible for profiling of data attributes to assess quality Define and monitor a t a sub work stream level key risk and issues and manage them as defined in PMP Conduct gap analysis against the established framework amp guidelines to assess levels of adherence Work closely with the system SMEs to implement enhance data quality controls and documentation Support transition of data quality and data governance capabilities into B AU Qualifications and Skills Degree in Accounting Statistics or Computer Science specializing in Information Management or equivalent amp PM certifications required PMP CAP M etc years of work experience in Banking domain involving one or more of the following Core Banking Cards amp Lending products Client on boarding or Due diligence Regulatory or Internal reporting sanctions anti money laundering Risk Management Market Credit or Operational Data Governance or I T or data analysis profiling roles supporting the above areas Strong MS Office skills required Knowledge and experience of SQL experience of working with data profiling and metadata tools will be added advantage Strong communication skills oral written and presentation Able to manage communications a t senior level with process owners and reporting owners in Retail Banking on matters regarding data management Able to work independently and familiar with SC B systems and processes Experience of working with data profiling and metadata tools What you can expect from the role Challenging deadlines Interconnected delivery streams requiring on the ground programme management expertise to effectively manage dependencies critical path amp interlock s Significantly high numbers of stakeholders with diverse viewpoints on data quality amp levels of controls required within respective functions Countless conversations and negotiations with multiple stakeholders across multiple locations Satisfaction in delivering against a key objective for the Group\n",
       "Name: jd, dtype: object"
      ]
     },
     "execution_count": 15,
     "metadata": {},
     "output_type": "execute_result"
    }
   ],
   "source": [
    "X.head()"
   ]
  },
  {
   "cell_type": "markdown",
   "metadata": {},
   "source": [
    "### Data preparation for modelling"
   ]
  },
  {
   "cell_type": "code",
   "execution_count": 16,
   "metadata": {},
   "outputs": [],
   "source": [
    "#split data into training and test set\n",
    "from sklearn.model_selection import train_test_split\n",
    "\n",
    "X_train, X_test, y_train, y_test = train_test_split(X, y, test_size=0.3, random_state = 0)"
   ]
  },
  {
   "cell_type": "code",
   "execution_count": 17,
   "metadata": {},
   "outputs": [
    {
     "data": {
      "text/plain": [
       "CountVectorizer(analyzer=u'word', binary=False, decode_error=u'strict',\n",
       "        dtype=<type 'numpy.int64'>, encoding=u'utf-8', input=u'content',\n",
       "        lowercase=True, max_df=1.0, max_features=None, min_df=4,\n",
       "        ngram_range=(1, 2), preprocessor=None, stop_words='english',\n",
       "        strip_accents=None, token_pattern=u'(?u)\\\\b\\\\w\\\\w+\\\\b',\n",
       "        tokenizer=None, vocabulary=None)"
      ]
     },
     "execution_count": 17,
     "metadata": {},
     "output_type": "execute_result"
    }
   ],
   "source": [
    "# Create Bag of Words model\n",
    "from sklearn.feature_extraction.text import CountVectorizer\n",
    "\n",
    "# declare CountVectorizer\n",
    "cv = CountVectorizer(ngram_range=(1, 2), stop_words='english', min_df=4)\n",
    "cv.fit(X_train)\n"
   ]
  },
  {
   "cell_type": "code",
   "execution_count": 18,
   "metadata": {},
   "outputs": [
    {
     "name": "stdout",
     "output_type": "stream",
     "text": [
      "# of features: 11151\n"
     ]
    }
   ],
   "source": [
    "# Lets check the length of our data that is in a vectorized state\n",
    "\n",
    "print('# of features: {}'.format( len(cv.get_feature_names()) ))"
   ]
  },
  {
   "cell_type": "code",
   "execution_count": 19,
   "metadata": {},
   "outputs": [],
   "source": [
    "# convert vectorized X_train into dataframe\n",
    "X_train = pd.DataFrame(cv.transform(X_train).todense(), columns=cv.get_feature_names())"
   ]
  },
  {
   "cell_type": "markdown",
   "metadata": {},
   "source": [
    "#### Looking at which words appear the most?"
   ]
  },
  {
   "cell_type": "code",
   "execution_count": 20,
   "metadata": {},
   "outputs": [
    {
     "data": {
      "text/plain": [
       "data                4761\n",
       "experience          2491\n",
       "business            2396\n",
       "requirements        1170\n",
       "work                1169\n",
       "management          1162\n",
       "team                1144\n",
       "skills              1108\n",
       "support              934\n",
       "analytics            897\n",
       "knowledge            896\n",
       "development          856\n",
       "analysis             826\n",
       "working              781\n",
       "strong               740\n",
       "learning             734\n",
       "project              729\n",
       "solutions            682\n",
       "technology           643\n",
       "responsibilities     641\n",
       "dtype: int64"
      ]
     },
     "execution_count": 20,
     "metadata": {},
     "output_type": "execute_result"
    }
   ],
   "source": [
    "word_counts = X_train.sum(axis=0)\n",
    "atomic_words_count = word_counts.sort_values(ascending = False).head(20)\n",
    "word_counts.sort_values(ascending = False).head(20)"
   ]
  },
  {
   "cell_type": "markdown",
   "metadata": {},
   "source": [
    "#### Plot a histogram to see the distribution of the top 20 atomic words"
   ]
  },
  {
   "cell_type": "code",
   "execution_count": 21,
   "metadata": {},
   "outputs": [
    {
     "data": {
      "text/plain": [
       "<matplotlib.axes._subplots.AxesSubplot at 0x117389ad0>"
      ]
     },
     "execution_count": 21,
     "metadata": {},
     "output_type": "execute_result"
    },
    {
     "data": {
      "image/png": "[encoded data removed]",
      "text/plain": [
       "<matplotlib.figure.Figure at 0x11734f8d0>"
      ]
     },
     "metadata": {},
     "output_type": "display_data"
    }
   ],
   "source": [
    "atomic_words_count.plot(kind='bar', figsize=(12,5))"
   ]
  },
  {
   "cell_type": "code",
   "execution_count": 22,
   "metadata": {},
   "outputs": [],
   "source": [
    "#Convert vectorized X_test into dataframe\n",
    "\n",
    "X_test = pd.DataFrame(cv.transform(X_test).todense(),\n",
    "                       columns=cv.get_feature_names())"
   ]
  },
  {
   "cell_type": "markdown",
   "metadata": {},
   "source": [
    "## Regressors method"
   ]
  },
  {
   "cell_type": "markdown",
   "metadata": {},
   "source": [
    "### Linear Regression Model"
   ]
  },
  {
   "cell_type": "code",
   "execution_count": 23,
   "metadata": {},
   "outputs": [
    {
     "data": {
      "text/plain": [
       "-6.833808159684127e+24"
      ]
     },
     "execution_count": 23,
     "metadata": {},
     "output_type": "execute_result"
    }
   ],
   "source": [
    "#Import and fit our logistic regression and test it too\n",
    "from sklearn.linear_model import LinearRegression, LogisticRegression\n",
    "lr = LinearRegression()\n",
    "lr.fit(X_train, y_train)\n",
    "lr.score(X_test, y_test)"
   ]
  },
  {
   "cell_type": "code",
   "execution_count": 24,
   "metadata": {},
   "outputs": [
    {
     "data": {
      "text/plain": [
       "<seaborn.axisgrid.JointGrid at 0x1189589d0>"
      ]
     },
     "execution_count": 24,
     "metadata": {},
     "output_type": "execute_result"
    },
    {
     "data": {
      "image/png": "[encoded data removed]",
      "text/plain": [
       "<matplotlib.figure.Figure at 0x118958990>"
      ]
     },
     "metadata": {},
     "output_type": "display_data"
    }
   ],
   "source": [
    "pred_salary = lr.predict(X_test)\n",
    "sns.jointplot(y_test, pred_salary)"
   ]
  },
  {
   "cell_type": "markdown",
   "metadata": {},
   "source": [
    "The score is not promising for a simple linear regression. This model may not be suitable for NLP. We will explore other methods/models."
   ]
  },
  {
   "cell_type": "markdown",
   "metadata": {},
   "source": [
    "### Lasso Model"
   ]
  },
  {
   "cell_type": "code",
   "execution_count": 25,
   "metadata": {},
   "outputs": [],
   "source": [
    "from sklearn.linear_model import Lasso, LassoCV\n",
    "from sklearn.model_selection import cross_val_score"
   ]
  },
  {
   "cell_type": "code",
   "execution_count": 26,
   "metadata": {},
   "outputs": [
    {
     "name": "stderr",
     "output_type": "stream",
     "text": [
      "....................................................................................................................................................................................................................................................................................................................................................................................................................................................................................................................................................................................................................................................................................................................................................................................................................................................................................................................................................................................................................................................................................................................................................................................................................................................................................................................................................................................................................................................................................................................................................................................................................................................................................................................................................................................................................................................................................................................................................................................................................................................................................................................................................................................................................................................................................................................................................................................................................................................................................................................................................................................................[Parallel(n_jobs=6)]: Done   5 out of   5 | elapsed: 17.1min finished\n"
     ]
    },
    {
     "name": "stdout",
     "output_type": "stream",
     "text": [
      "29.420723676487913\n"
     ]
    }
   ],
   "source": [
    "optimal_lasso = LassoCV(n_alphas=500, cv=5, verbose=1, n_jobs = 6)\n",
    "optimal_lasso.fit(X_train, y_train)\n",
    "\n",
    "print optimal_lasso.alpha_"
   ]
  },
  {
   "cell_type": "code",
   "execution_count": 27,
   "metadata": {},
   "outputs": [
    {
     "name": "stdout",
     "output_type": "stream",
     "text": [
      "[0.29211385 0.13350019 0.13190007 0.31834004 0.30896845]\n",
      "0.23696452096156384\n"
     ]
    }
   ],
   "source": [
    "lasso = Lasso(alpha=optimal_lasso.alpha_, fit_intercept = True)\n",
    "lasso_scores = cross_val_score(lasso, X_train, y_train, cv=5)\n",
    "lasso.fit(X_train, y_train)\n",
    "print lasso_scores\n",
    "print np.mean(lasso_scores)"
   ]
  },
  {
   "cell_type": "markdown",
   "metadata": {},
   "source": [
    "A Lasso score of 0.24 is much better than the previous model."
   ]
  },
  {
   "cell_type": "markdown",
   "metadata": {},
   "source": [
    "#### Getting the coefficients of the words"
   ]
  },
  {
   "cell_type": "code",
   "execution_count": 28,
   "metadata": {},
   "outputs": [],
   "source": [
    "lasso_coefs = pd.DataFrame({'variable': cv.get_feature_names(),\n",
    "                            'coef':lasso.coef_,\n",
    "                            'abs_coef': np.abs(lasso.coef_)})\n",
    "\n"
   ]
  },
  {
   "cell_type": "markdown",
   "metadata": {},
   "source": [
    "Lasso model is likely saying that if a candidate who is able to work in Vietnam, has good architectual level experience, deals with the quantitative, good with feature engineering skills, strong with programming, knows the pipelines and with a consistent record of accurate prediction of market data will likely to command a higher salary. "
   ]
  },
  {
   "cell_type": "code",
   "execution_count": 29,
   "metadata": {},
   "outputs": [],
   "source": [
    "lasso_coefs.sort_values('abs_coef', inplace=True, ascending=False)"
   ]
  },
  {
   "cell_type": "code",
   "execution_count": 30,
   "metadata": {},
   "outputs": [
    {
     "data": {
      "text/html": [
       "<div>\n",
       "<style scoped>\n",
       "    .dataframe tbody tr th:only-of-type {\n",
       "        vertical-align: middle;\n",
       "    }\n",
       "\n",
       "    .dataframe tbody tr th {\n",
       "        vertical-align: top;\n",
       "    }\n",
       "\n",
       "    .dataframe thead th {\n",
       "        text-align: right;\n",
       "    }\n",
       "</style>\n",
       "<table border=\"1\" class=\"dataframe\">\n",
       "  <thead>\n",
       "    <tr style=\"text-align: right;\">\n",
       "      <th></th>\n",
       "      <th>abs_coef</th>\n",
       "      <th>coef</th>\n",
       "      <th>variable</th>\n",
       "    </tr>\n",
       "  </thead>\n",
       "  <tbody>\n",
       "    <tr>\n",
       "      <th>8603</th>\n",
       "      <td>1050.869510</td>\n",
       "      <td>1050.869510</td>\n",
       "      <td>roles responsibilities</td>\n",
       "    </tr>\n",
       "    <tr>\n",
       "      <th>5633</th>\n",
       "      <td>853.929398</td>\n",
       "      <td>853.929398</td>\n",
       "      <td>licence</td>\n",
       "    </tr>\n",
       "    <tr>\n",
       "      <th>10790</th>\n",
       "      <td>759.045579</td>\n",
       "      <td>759.045579</td>\n",
       "      <td>vietnam</td>\n",
       "    </tr>\n",
       "    <tr>\n",
       "      <th>1152</th>\n",
       "      <td>728.405621</td>\n",
       "      <td>728.405621</td>\n",
       "      <td>bu</td>\n",
       "    </tr>\n",
       "    <tr>\n",
       "      <th>4302</th>\n",
       "      <td>625.415457</td>\n",
       "      <td>625.415457</td>\n",
       "      <td>good experience</td>\n",
       "    </tr>\n",
       "    <tr>\n",
       "      <th>7075</th>\n",
       "      <td>593.236203</td>\n",
       "      <td>593.236203</td>\n",
       "      <td>pipelines</td>\n",
       "    </tr>\n",
       "    <tr>\n",
       "      <th>5094</th>\n",
       "      <td>540.792615</td>\n",
       "      <td>-540.792615</td>\n",
       "      <td>intern</td>\n",
       "    </tr>\n",
       "    <tr>\n",
       "      <th>7891</th>\n",
       "      <td>537.265183</td>\n",
       "      <td>537.265183</td>\n",
       "      <td>quantitative</td>\n",
       "    </tr>\n",
       "    <tr>\n",
       "      <th>6001</th>\n",
       "      <td>434.303492</td>\n",
       "      <td>434.303492</td>\n",
       "      <td>market data</td>\n",
       "    </tr>\n",
       "    <tr>\n",
       "      <th>1953</th>\n",
       "      <td>327.070762</td>\n",
       "      <td>327.070762</td>\n",
       "      <td>consistent</td>\n",
       "    </tr>\n",
       "    <tr>\n",
       "      <th>8015</th>\n",
       "      <td>322.546054</td>\n",
       "      <td>322.546054</td>\n",
       "      <td>record</td>\n",
       "    </tr>\n",
       "    <tr>\n",
       "      <th>3929</th>\n",
       "      <td>319.693856</td>\n",
       "      <td>319.693856</td>\n",
       "      <td>feature engineering</td>\n",
       "    </tr>\n",
       "    <tr>\n",
       "      <th>344</th>\n",
       "      <td>307.395735</td>\n",
       "      <td>-307.395735</td>\n",
       "      <td>allow</td>\n",
       "    </tr>\n",
       "    <tr>\n",
       "      <th>816</th>\n",
       "      <td>299.757233</td>\n",
       "      <td>-299.757233</td>\n",
       "      <td>assist</td>\n",
       "    </tr>\n",
       "    <tr>\n",
       "      <th>5977</th>\n",
       "      <td>292.665723</td>\n",
       "      <td>292.665723</td>\n",
       "      <td>manner</td>\n",
       "    </tr>\n",
       "    <tr>\n",
       "      <th>4190</th>\n",
       "      <td>278.241380</td>\n",
       "      <td>-278.241380</td>\n",
       "      <td>gain</td>\n",
       "    </tr>\n",
       "    <tr>\n",
       "      <th>723</th>\n",
       "      <td>226.328470</td>\n",
       "      <td>226.328470</td>\n",
       "      <td>architect</td>\n",
       "    </tr>\n",
       "    <tr>\n",
       "      <th>5599</th>\n",
       "      <td>209.870853</td>\n",
       "      <td>209.870853</td>\n",
       "      <td>level</td>\n",
       "    </tr>\n",
       "    <tr>\n",
       "      <th>7601</th>\n",
       "      <td>205.598614</td>\n",
       "      <td>205.598614</td>\n",
       "      <td>programming</td>\n",
       "    </tr>\n",
       "    <tr>\n",
       "      <th>8429</th>\n",
       "      <td>196.161038</td>\n",
       "      <td>196.161038</td>\n",
       "      <td>responsibilities</td>\n",
       "    </tr>\n",
       "    <tr>\n",
       "      <th>4786</th>\n",
       "      <td>194.504443</td>\n",
       "      <td>194.504443</td>\n",
       "      <td>including</td>\n",
       "    </tr>\n",
       "    <tr>\n",
       "      <th>5449</th>\n",
       "      <td>192.149090</td>\n",
       "      <td>192.149090</td>\n",
       "      <td>large scale</td>\n",
       "    </tr>\n",
       "    <tr>\n",
       "      <th>11109</th>\n",
       "      <td>190.645967</td>\n",
       "      <td>190.645967</td>\n",
       "      <td>years</td>\n",
       "    </tr>\n",
       "    <tr>\n",
       "      <th>6595</th>\n",
       "      <td>186.737186</td>\n",
       "      <td>186.737186</td>\n",
       "      <td>number</td>\n",
       "    </tr>\n",
       "    <tr>\n",
       "      <th>1394</th>\n",
       "      <td>186.573986</td>\n",
       "      <td>186.573986</td>\n",
       "      <td>careers</td>\n",
       "    </tr>\n",
       "    <tr>\n",
       "      <th>3945</th>\n",
       "      <td>182.233674</td>\n",
       "      <td>182.233674</td>\n",
       "      <td>field</td>\n",
       "    </tr>\n",
       "    <tr>\n",
       "      <th>3800</th>\n",
       "      <td>169.493346</td>\n",
       "      <td>169.493346</td>\n",
       "      <td>experienced</td>\n",
       "    </tr>\n",
       "    <tr>\n",
       "      <th>5026</th>\n",
       "      <td>169.039398</td>\n",
       "      <td>169.039398</td>\n",
       "      <td>integration</td>\n",
       "    </tr>\n",
       "    <tr>\n",
       "      <th>9585</th>\n",
       "      <td>162.204631</td>\n",
       "      <td>-162.204631</td>\n",
       "      <td>strong</td>\n",
       "    </tr>\n",
       "    <tr>\n",
       "      <th>7270</th>\n",
       "      <td>161.235355</td>\n",
       "      <td>161.235355</td>\n",
       "      <td>predictive</td>\n",
       "    </tr>\n",
       "    <tr>\n",
       "      <th>3914</th>\n",
       "      <td>154.922623</td>\n",
       "      <td>-154.922623</td>\n",
       "      <td>fast</td>\n",
       "    </tr>\n",
       "    <tr>\n",
       "      <th>3691</th>\n",
       "      <td>151.994626</td>\n",
       "      <td>-151.994626</td>\n",
       "      <td>experience data</td>\n",
       "    </tr>\n",
       "    <tr>\n",
       "      <th>997</th>\n",
       "      <td>149.671596</td>\n",
       "      <td>149.671596</td>\n",
       "      <td>based</td>\n",
       "    </tr>\n",
       "    <tr>\n",
       "      <th>3816</th>\n",
       "      <td>143.988805</td>\n",
       "      <td>143.988805</td>\n",
       "      <td>expert</td>\n",
       "    </tr>\n",
       "    <tr>\n",
       "      <th>5498</th>\n",
       "      <td>143.237879</td>\n",
       "      <td>-143.237879</td>\n",
       "      <td>leading</td>\n",
       "    </tr>\n",
       "    <tr>\n",
       "      <th>1014</th>\n",
       "      <td>141.661449</td>\n",
       "      <td>-141.661449</td>\n",
       "      <td>basic</td>\n",
       "    </tr>\n",
       "    <tr>\n",
       "      <th>1361</th>\n",
       "      <td>138.082650</td>\n",
       "      <td>138.082650</td>\n",
       "      <td>capabilities</td>\n",
       "    </tr>\n",
       "    <tr>\n",
       "      <th>5678</th>\n",
       "      <td>137.628392</td>\n",
       "      <td>137.628392</td>\n",
       "      <td>limited</td>\n",
       "    </tr>\n",
       "    <tr>\n",
       "      <th>4661</th>\n",
       "      <td>137.545184</td>\n",
       "      <td>137.545184</td>\n",
       "      <td>impact</td>\n",
       "    </tr>\n",
       "    <tr>\n",
       "      <th>10724</th>\n",
       "      <td>135.468943</td>\n",
       "      <td>-135.468943</td>\n",
       "      <td>various</td>\n",
       "    </tr>\n",
       "    <tr>\n",
       "      <th>5861</th>\n",
       "      <td>135.197013</td>\n",
       "      <td>135.197013</td>\n",
       "      <td>manage</td>\n",
       "    </tr>\n",
       "    <tr>\n",
       "      <th>6525</th>\n",
       "      <td>133.445440</td>\n",
       "      <td>-133.445440</td>\n",
       "      <td>new</td>\n",
       "    </tr>\n",
       "    <tr>\n",
       "      <th>2666</th>\n",
       "      <td>132.047231</td>\n",
       "      <td>132.047231</td>\n",
       "      <td>demonstrate</td>\n",
       "    </tr>\n",
       "    <tr>\n",
       "      <th>860</th>\n",
       "      <td>132.021435</td>\n",
       "      <td>-132.021435</td>\n",
       "      <td>attention</td>\n",
       "    </tr>\n",
       "    <tr>\n",
       "      <th>10948</th>\n",
       "      <td>130.661432</td>\n",
       "      <td>-130.661432</td>\n",
       "      <td>work</td>\n",
       "    </tr>\n",
       "    <tr>\n",
       "      <th>10247</th>\n",
       "      <td>130.139389</td>\n",
       "      <td>-130.139389</td>\n",
       "      <td>time</td>\n",
       "    </tr>\n",
       "    <tr>\n",
       "      <th>6279</th>\n",
       "      <td>129.871804</td>\n",
       "      <td>129.871804</td>\n",
       "      <td>model</td>\n",
       "    </tr>\n",
       "    <tr>\n",
       "      <th>8871</th>\n",
       "      <td>127.339519</td>\n",
       "      <td>127.339519</td>\n",
       "      <td>senior</td>\n",
       "    </tr>\n",
       "    <tr>\n",
       "      <th>1127</th>\n",
       "      <td>125.828613</td>\n",
       "      <td>-125.828613</td>\n",
       "      <td>brand</td>\n",
       "    </tr>\n",
       "    <tr>\n",
       "      <th>2906</th>\n",
       "      <td>120.788457</td>\n",
       "      <td>-120.788457</td>\n",
       "      <td>different</td>\n",
       "    </tr>\n",
       "  </tbody>\n",
       "</table>\n",
       "</div>"
      ],
      "text/plain": [
       "          abs_coef         coef                variable\n",
       "8603   1050.869510  1050.869510  roles responsibilities\n",
       "5633    853.929398   853.929398                 licence\n",
       "10790   759.045579   759.045579                 vietnam\n",
       "1152    728.405621   728.405621                      bu\n",
       "4302    625.415457   625.415457         good experience\n",
       "7075    593.236203   593.236203               pipelines\n",
       "5094    540.792615  -540.792615                  intern\n",
       "7891    537.265183   537.265183            quantitative\n",
       "6001    434.303492   434.303492             market data\n",
       "1953    327.070762   327.070762              consistent\n",
       "8015    322.546054   322.546054                  record\n",
       "3929    319.693856   319.693856     feature engineering\n",
       "344     307.395735  -307.395735                   allow\n",
       "816     299.757233  -299.757233                  assist\n",
       "5977    292.665723   292.665723                  manner\n",
       "4190    278.241380  -278.241380                    gain\n",
       "723     226.328470   226.328470               architect\n",
       "5599    209.870853   209.870853                   level\n",
       "7601    205.598614   205.598614             programming\n",
       "8429    196.161038   196.161038        responsibilities\n",
       "4786    194.504443   194.504443               including\n",
       "5449    192.149090   192.149090             large scale\n",
       "11109   190.645967   190.645967                   years\n",
       "6595    186.737186   186.737186                  number\n",
       "1394    186.573986   186.573986                 careers\n",
       "3945    182.233674   182.233674                   field\n",
       "3800    169.493346   169.493346             experienced\n",
       "5026    169.039398   169.039398             integration\n",
       "9585    162.204631  -162.204631                  strong\n",
       "7270    161.235355   161.235355              predictive\n",
       "3914    154.922623  -154.922623                    fast\n",
       "3691    151.994626  -151.994626         experience data\n",
       "997     149.671596   149.671596                   based\n",
       "3816    143.988805   143.988805                  expert\n",
       "5498    143.237879  -143.237879                 leading\n",
       "1014    141.661449  -141.661449                   basic\n",
       "1361    138.082650   138.082650            capabilities\n",
       "5678    137.628392   137.628392                 limited\n",
       "4661    137.545184   137.545184                  impact\n",
       "10724   135.468943  -135.468943                 various\n",
       "5861    135.197013   135.197013                  manage\n",
       "6525    133.445440  -133.445440                     new\n",
       "2666    132.047231   132.047231             demonstrate\n",
       "860     132.021435  -132.021435               attention\n",
       "10948   130.661432  -130.661432                    work\n",
       "10247   130.139389  -130.139389                    time\n",
       "6279    129.871804   129.871804                   model\n",
       "8871    127.339519   127.339519                  senior\n",
       "1127    125.828613  -125.828613                   brand\n",
       "2906    120.788457  -120.788457               different"
      ]
     },
     "execution_count": 30,
     "metadata": {},
     "output_type": "execute_result"
    }
   ],
   "source": [
    "lasso_coefs.head(50)"
   ]
  },
  {
   "cell_type": "markdown",
   "metadata": {},
   "source": [
    "### Logistic Regression Model"
   ]
  },
  {
   "cell_type": "code",
   "execution_count": 31,
   "metadata": {},
   "outputs": [
    {
     "name": "stderr",
     "output_type": "stream",
     "text": [
      "/Users/matt_dynasty/anaconda2/lib/python2.7/site-packages/sklearn/model_selection/_split.py:605: Warning: The least populated class in y has only 1 members, which is too few. The minimum number of members in any class cannot be less than n_splits=5.\n",
      "  % (min_groups, self.n_splits)), Warning)\n"
     ]
    },
    {
     "data": {
      "text/plain": [
       "0.3391304347826087"
      ]
     },
     "execution_count": 31,
     "metadata": {},
     "output_type": "execute_result"
    }
   ],
   "source": [
    "logreg = LogisticRegression()\n",
    "\n",
    "logreg_scores = cross_val_score(logreg, X_train, y_train, cv=5)\n",
    "\n",
    "logreg.fit(X_train, y_train)\n",
    "logreg.score(X_test, y_test)"
   ]
  },
  {
   "cell_type": "markdown",
   "metadata": {},
   "source": [
    "i just want to see what happens when using LogReg if salaries are not classified into groups. It turns out the score 0.39 is much better than Linear Regression and Lasso. "
   ]
  },
  {
   "cell_type": "code",
   "execution_count": 32,
   "metadata": {},
   "outputs": [
    {
     "name": "stdout",
     "output_type": "stream",
     "text": [
      "[0.27802691 0.39428571 0.38926174 0.4        0.48333333]\n",
      "0.38898153968301735\n"
     ]
    }
   ],
   "source": [
    "print logreg_scores\n",
    "print np.mean(logreg_scores)"
   ]
  },
  {
   "cell_type": "markdown",
   "metadata": {},
   "source": [
    "** NOTE **: \n",
    "Initially, I thought LinearRegression will be a better model because salary is a range of float. But it seems a classification model likely will give a better prediction for salary. This is due to the possibility that salary is divided into groups. The more senior, the higher the salary range. I try not to use HashingVectorizer because I want to know which words actually are the factors."
   ]
  },
  {
   "cell_type": "markdown",
   "metadata": {},
   "source": [
    "#### Looking at the salary distribution over the percentiles."
   ]
  },
  {
   "cell_type": "code",
   "execution_count": 33,
   "metadata": {},
   "outputs": [
    {
     "data": {
      "text/plain": [
       "count     1147.000000\n",
       "mean      5119.971229\n",
       "std       2340.427409\n",
       "min        600.000000\n",
       "25%       4375.000000\n",
       "50%       4500.000000\n",
       "75%       6000.000000\n",
       "max      20000.000000\n",
       "Name: salary, dtype: float64"
      ]
     },
     "execution_count": 33,
     "metadata": {},
     "output_type": "execute_result"
    }
   ],
   "source": [
    "df.salary.describe()"
   ]
  },
  {
   "cell_type": "markdown",
   "metadata": {},
   "source": [
    "## Classifiers method\n"
   ]
  },
  {
   "cell_type": "markdown",
   "metadata": {},
   "source": [
    "### Logistic Regression Model"
   ]
  },
  {
   "cell_type": "code",
   "execution_count": 34,
   "metadata": {},
   "outputs": [],
   "source": [
    "# Function for categorizing the salary into HIGH(1), MIDDLE(2), LOW(3) range and use a Logistic Regression. \n",
    "\n",
    "def group_salary(x):\n",
    "    if (x >= 6000):\n",
    "        return 1\n",
    "    elif x >= 4500:\n",
    "        return 2\n",
    "    return 3"
   ]
  },
  {
   "cell_type": "code",
   "execution_count": 35,
   "metadata": {},
   "outputs": [],
   "source": [
    "yg_train = [ group_salary(x) for x in y_train ]"
   ]
  },
  {
   "cell_type": "code",
   "execution_count": 36,
   "metadata": {},
   "outputs": [],
   "source": [
    "# convert list to np.array.\n",
    "yg_train = np.asarray(yg_train)"
   ]
  },
  {
   "cell_type": "code",
   "execution_count": 37,
   "metadata": {},
   "outputs": [],
   "source": [
    "yg_test = [ group_salary(x) for x in y_test ]\n",
    "yg_test = np.asarray(yg_test)"
   ]
  },
  {
   "cell_type": "code",
   "execution_count": 38,
   "metadata": {},
   "outputs": [],
   "source": [
    "from sklearn.pipeline import make_pipeline\n",
    "from sklearn.metrics import accuracy_score, classification_report\n",
    "from sklearn.model_selection import cross_val_score"
   ]
  },
  {
   "cell_type": "code",
   "execution_count": 39,
   "metadata": {},
   "outputs": [
    {
     "data": {
      "text/plain": [
       "0.6434782608695652"
      ]
     },
     "execution_count": 39,
     "metadata": {},
     "output_type": "execute_result"
    }
   ],
   "source": [
    "logreg = LogisticRegression()\n",
    "\n",
    "logreg_scores = cross_val_score(logreg, X_train, yg_train, cv=5)\n",
    "\n",
    "logreg.fit(X_train, yg_train)\n",
    "logreg.score(X_test, yg_test)"
   ]
  },
  {
   "cell_type": "code",
   "execution_count": 40,
   "metadata": {},
   "outputs": [
    {
     "name": "stdout",
     "output_type": "stream",
     "text": [
      "             precision    recall  f1-score   support\n",
      "\n",
      "          1       0.67      0.54      0.60       114\n",
      "          2       0.59      0.71      0.65       139\n",
      "          3       0.71      0.66      0.69        92\n",
      "\n",
      "avg / total       0.65      0.64      0.64       345\n",
      "\n"
     ]
    }
   ],
   "source": [
    "# making a classification report\n",
    "print classification_report(yg_test, logreg.predict(X_test))"
   ]
  },
  {
   "cell_type": "markdown",
   "metadata": {},
   "source": [
    "The Logistic Regression Model gives a fairly good f1-score at 0.60. "
   ]
  },
  {
   "cell_type": "code",
   "execution_count": 41,
   "metadata": {},
   "outputs": [
    {
     "data": {
      "text/html": [
       "<div>\n",
       "<style scoped>\n",
       "    .dataframe tbody tr th:only-of-type {\n",
       "        vertical-align: middle;\n",
       "    }\n",
       "\n",
       "    .dataframe tbody tr th {\n",
       "        vertical-align: top;\n",
       "    }\n",
       "\n",
       "    .dataframe thead th {\n",
       "        text-align: right;\n",
       "    }\n",
       "</style>\n",
       "<table border=\"1\" class=\"dataframe\">\n",
       "  <thead>\n",
       "    <tr style=\"text-align: right;\">\n",
       "      <th></th>\n",
       "      <th>coef</th>\n",
       "      <th>feature_names</th>\n",
       "    </tr>\n",
       "  </thead>\n",
       "  <tbody>\n",
       "    <tr>\n",
       "      <th>7601</th>\n",
       "      <td>0.468784</td>\n",
       "      <td>programming</td>\n",
       "    </tr>\n",
       "    <tr>\n",
       "      <th>2539</th>\n",
       "      <td>0.440541</td>\n",
       "      <td>dc</td>\n",
       "    </tr>\n",
       "    <tr>\n",
       "      <th>10952</th>\n",
       "      <td>0.427651</td>\n",
       "      <td>work closely</td>\n",
       "    </tr>\n",
       "    <tr>\n",
       "      <th>10537</th>\n",
       "      <td>0.404126</td>\n",
       "      <td>unit</td>\n",
       "    </tr>\n",
       "    <tr>\n",
       "      <th>3819</th>\n",
       "      <td>0.375061</td>\n",
       "      <td>expertise</td>\n",
       "    </tr>\n",
       "    <tr>\n",
       "      <th>3806</th>\n",
       "      <td>0.372936</td>\n",
       "      <td>experiences</td>\n",
       "    </tr>\n",
       "    <tr>\n",
       "      <th>2597</th>\n",
       "      <td>0.351957</td>\n",
       "      <td>degree computer</td>\n",
       "    </tr>\n",
       "    <tr>\n",
       "      <th>10594</th>\n",
       "      <td>0.349668</td>\n",
       "      <td>use</td>\n",
       "    </tr>\n",
       "    <tr>\n",
       "      <th>1343</th>\n",
       "      <td>0.344408</td>\n",
       "      <td>candidates</td>\n",
       "    </tr>\n",
       "    <tr>\n",
       "      <th>9422</th>\n",
       "      <td>0.343700</td>\n",
       "      <td>stakeholders</td>\n",
       "    </tr>\n",
       "    <tr>\n",
       "      <th>3041</th>\n",
       "      <td>0.342381</td>\n",
       "      <td>documentation</td>\n",
       "    </tr>\n",
       "    <tr>\n",
       "      <th>6621</th>\n",
       "      <td>0.340816</td>\n",
       "      <td>offer</td>\n",
       "    </tr>\n",
       "    <tr>\n",
       "      <th>5118</th>\n",
       "      <td>0.339418</td>\n",
       "      <td>interpersonal communication</td>\n",
       "    </tr>\n",
       "    <tr>\n",
       "      <th>7144</th>\n",
       "      <td>0.337996</td>\n",
       "      <td>pm</td>\n",
       "    </tr>\n",
       "    <tr>\n",
       "      <th>671</th>\n",
       "      <td>0.336510</td>\n",
       "      <td>apply</td>\n",
       "    </tr>\n",
       "    <tr>\n",
       "      <th>9266</th>\n",
       "      <td>0.336064</td>\n",
       "      <td>source</td>\n",
       "    </tr>\n",
       "    <tr>\n",
       "      <th>6595</th>\n",
       "      <td>0.333615</td>\n",
       "      <td>number</td>\n",
       "    </tr>\n",
       "    <tr>\n",
       "      <th>11104</th>\n",
       "      <td>0.327252</td>\n",
       "      <td>year</td>\n",
       "    </tr>\n",
       "    <tr>\n",
       "      <th>1852</th>\n",
       "      <td>0.325768</td>\n",
       "      <td>computer</td>\n",
       "    </tr>\n",
       "    <tr>\n",
       "      <th>2121</th>\n",
       "      <td>0.324304</td>\n",
       "      <td>create</td>\n",
       "    </tr>\n",
       "    <tr>\n",
       "      <th>5421</th>\n",
       "      <td>0.323884</td>\n",
       "      <td>language</td>\n",
       "    </tr>\n",
       "    <tr>\n",
       "      <th>2022</th>\n",
       "      <td>0.316662</td>\n",
       "      <td>contract</td>\n",
       "    </tr>\n",
       "    <tr>\n",
       "      <th>6057</th>\n",
       "      <td>0.314341</td>\n",
       "      <td>mathematics</td>\n",
       "    </tr>\n",
       "    <tr>\n",
       "      <th>75</th>\n",
       "      <td>0.313368</td>\n",
       "      <td>able work</td>\n",
       "    </tr>\n",
       "    <tr>\n",
       "      <th>10009</th>\n",
       "      <td>0.312181</td>\n",
       "      <td>technical</td>\n",
       "    </tr>\n",
       "    <tr>\n",
       "      <th>5962</th>\n",
       "      <td>0.310769</td>\n",
       "      <td>managing</td>\n",
       "    </tr>\n",
       "    <tr>\n",
       "      <th>5858</th>\n",
       "      <td>0.306793</td>\n",
       "      <td>making skills</td>\n",
       "    </tr>\n",
       "    <tr>\n",
       "      <th>10800</th>\n",
       "      <td>0.304823</td>\n",
       "      <td>vision</td>\n",
       "    </tr>\n",
       "    <tr>\n",
       "      <th>897</th>\n",
       "      <td>0.304751</td>\n",
       "      <td>automate</td>\n",
       "    </tr>\n",
       "    <tr>\n",
       "      <th>1553</th>\n",
       "      <td>0.302045</td>\n",
       "      <td>client</td>\n",
       "    </tr>\n",
       "    <tr>\n",
       "      <th>...</th>\n",
       "      <td>...</td>\n",
       "      <td>...</td>\n",
       "    </tr>\n",
       "    <tr>\n",
       "      <th>1216</th>\n",
       "      <td>-0.320807</td>\n",
       "      <td>business data</td>\n",
       "    </tr>\n",
       "    <tr>\n",
       "      <th>8429</th>\n",
       "      <td>-0.321010</td>\n",
       "      <td>responsibilities</td>\n",
       "    </tr>\n",
       "    <tr>\n",
       "      <th>456</th>\n",
       "      <td>-0.322764</td>\n",
       "      <td>analyst business</td>\n",
       "    </tr>\n",
       "    <tr>\n",
       "      <th>2291</th>\n",
       "      <td>-0.327112</td>\n",
       "      <td>data analysis</td>\n",
       "    </tr>\n",
       "    <tr>\n",
       "      <th>234</th>\n",
       "      <td>-0.328772</td>\n",
       "      <td>advanced</td>\n",
       "    </tr>\n",
       "    <tr>\n",
       "      <th>2716</th>\n",
       "      <td>-0.332255</td>\n",
       "      <td>design</td>\n",
       "    </tr>\n",
       "    <tr>\n",
       "      <th>2777</th>\n",
       "      <td>-0.342300</td>\n",
       "      <td>details</td>\n",
       "    </tr>\n",
       "    <tr>\n",
       "      <th>9893</th>\n",
       "      <td>-0.344639</td>\n",
       "      <td>tan</td>\n",
       "    </tr>\n",
       "    <tr>\n",
       "      <th>380</th>\n",
       "      <td>-0.345776</td>\n",
       "      <td>amp</td>\n",
       "    </tr>\n",
       "    <tr>\n",
       "      <th>3945</th>\n",
       "      <td>-0.353458</td>\n",
       "      <td>field</td>\n",
       "    </tr>\n",
       "    <tr>\n",
       "      <th>5094</th>\n",
       "      <td>-0.358818</td>\n",
       "      <td>intern</td>\n",
       "    </tr>\n",
       "    <tr>\n",
       "      <th>920</th>\n",
       "      <td>-0.360036</td>\n",
       "      <td>avp</td>\n",
       "    </tr>\n",
       "    <tr>\n",
       "      <th>6145</th>\n",
       "      <td>-0.365475</td>\n",
       "      <td>met</td>\n",
       "    </tr>\n",
       "    <tr>\n",
       "      <th>9685</th>\n",
       "      <td>-0.365990</td>\n",
       "      <td>suite</td>\n",
       "    </tr>\n",
       "    <tr>\n",
       "      <th>6008</th>\n",
       "      <td>-0.367541</td>\n",
       "      <td>marketing</td>\n",
       "    </tr>\n",
       "    <tr>\n",
       "      <th>260</th>\n",
       "      <td>-0.393899</td>\n",
       "      <td>advantageous</td>\n",
       "    </tr>\n",
       "    <tr>\n",
       "      <th>2917</th>\n",
       "      <td>-0.397354</td>\n",
       "      <td>digital</td>\n",
       "    </tr>\n",
       "    <tr>\n",
       "      <th>10078</th>\n",
       "      <td>-0.402865</td>\n",
       "      <td>technology</td>\n",
       "    </tr>\n",
       "    <tr>\n",
       "      <th>3426</th>\n",
       "      <td>-0.410371</td>\n",
       "      <td>enterprise</td>\n",
       "    </tr>\n",
       "    <tr>\n",
       "      <th>5909</th>\n",
       "      <td>-0.424364</td>\n",
       "      <td>management office</td>\n",
       "    </tr>\n",
       "    <tr>\n",
       "      <th>10247</th>\n",
       "      <td>-0.441398</td>\n",
       "      <td>time</td>\n",
       "    </tr>\n",
       "    <tr>\n",
       "      <th>7545</th>\n",
       "      <td>-0.447310</td>\n",
       "      <td>products</td>\n",
       "    </tr>\n",
       "    <tr>\n",
       "      <th>3106</th>\n",
       "      <td>-0.459271</td>\n",
       "      <td>driven</td>\n",
       "    </tr>\n",
       "    <tr>\n",
       "      <th>1323</th>\n",
       "      <td>-0.476954</td>\n",
       "      <td>candidate</td>\n",
       "    </tr>\n",
       "    <tr>\n",
       "      <th>10845</th>\n",
       "      <td>-0.485042</td>\n",
       "      <td>vp</td>\n",
       "    </tr>\n",
       "    <tr>\n",
       "      <th>3397</th>\n",
       "      <td>-0.512243</td>\n",
       "      <td>ensure</td>\n",
       "    </tr>\n",
       "    <tr>\n",
       "      <th>1566</th>\n",
       "      <td>-0.521036</td>\n",
       "      <td>clients</td>\n",
       "    </tr>\n",
       "    <tr>\n",
       "      <th>3341</th>\n",
       "      <td>-0.590708</td>\n",
       "      <td>engineer</td>\n",
       "    </tr>\n",
       "    <tr>\n",
       "      <th>8600</th>\n",
       "      <td>-0.794727</td>\n",
       "      <td>roles</td>\n",
       "    </tr>\n",
       "    <tr>\n",
       "      <th>8603</th>\n",
       "      <td>-0.837245</td>\n",
       "      <td>roles responsibilities</td>\n",
       "    </tr>\n",
       "  </tbody>\n",
       "</table>\n",
       "<p>11151 rows × 2 columns</p>\n",
       "</div>"
      ],
      "text/plain": [
       "           coef                feature_names\n",
       "7601   0.468784                  programming\n",
       "2539   0.440541                           dc\n",
       "10952  0.427651                 work closely\n",
       "10537  0.404126                         unit\n",
       "3819   0.375061                    expertise\n",
       "3806   0.372936                  experiences\n",
       "2597   0.351957              degree computer\n",
       "10594  0.349668                          use\n",
       "1343   0.344408                   candidates\n",
       "9422   0.343700                 stakeholders\n",
       "3041   0.342381                documentation\n",
       "6621   0.340816                        offer\n",
       "5118   0.339418  interpersonal communication\n",
       "7144   0.337996                           pm\n",
       "671    0.336510                        apply\n",
       "9266   0.336064                       source\n",
       "6595   0.333615                       number\n",
       "11104  0.327252                         year\n",
       "1852   0.325768                     computer\n",
       "2121   0.324304                       create\n",
       "5421   0.323884                     language\n",
       "2022   0.316662                     contract\n",
       "6057   0.314341                  mathematics\n",
       "75     0.313368                    able work\n",
       "10009  0.312181                    technical\n",
       "5962   0.310769                     managing\n",
       "5858   0.306793                making skills\n",
       "10800  0.304823                       vision\n",
       "897    0.304751                     automate\n",
       "1553   0.302045                       client\n",
       "...         ...                          ...\n",
       "1216  -0.320807                business data\n",
       "8429  -0.321010             responsibilities\n",
       "456   -0.322764             analyst business\n",
       "2291  -0.327112                data analysis\n",
       "234   -0.328772                     advanced\n",
       "2716  -0.332255                       design\n",
       "2777  -0.342300                      details\n",
       "9893  -0.344639                          tan\n",
       "380   -0.345776                          amp\n",
       "3945  -0.353458                        field\n",
       "5094  -0.358818                       intern\n",
       "920   -0.360036                          avp\n",
       "6145  -0.365475                          met\n",
       "9685  -0.365990                        suite\n",
       "6008  -0.367541                    marketing\n",
       "260   -0.393899                 advantageous\n",
       "2917  -0.397354                      digital\n",
       "10078 -0.402865                   technology\n",
       "3426  -0.410371                   enterprise\n",
       "5909  -0.424364            management office\n",
       "10247 -0.441398                         time\n",
       "7545  -0.447310                     products\n",
       "3106  -0.459271                       driven\n",
       "1323  -0.476954                    candidate\n",
       "10845 -0.485042                           vp\n",
       "3397  -0.512243                       ensure\n",
       "1566  -0.521036                      clients\n",
       "3341  -0.590708                     engineer\n",
       "8600  -0.794727                        roles\n",
       "8603  -0.837245       roles responsibilities\n",
       "\n",
       "[11151 rows x 2 columns]"
      ]
     },
     "execution_count": 41,
     "metadata": {},
     "output_type": "execute_result"
    }
   ],
   "source": [
    "logreg_coefs = pd.DataFrame({'feature_names': cv.get_feature_names(), 'coef': logreg.coef_[1] })\n",
    "\n",
    "logreg_coefs.sort_values('coef', inplace=True, ascending=False)\n",
    "\n",
    "logreg_coefs"
   ]
  },
  {
   "cell_type": "markdown",
   "metadata": {},
   "source": [
    "Hence, I gathered from the coefficients that it is saying that candidate who are experienced in programming languages , has a degree in computer science or mathematics, has good communication skills for presentation with stakeholders and with the rank of at least an AVP will more likely to fall into the higher salary range."
   ]
  },
  {
   "cell_type": "code",
   "execution_count": 42,
   "metadata": {},
   "outputs": [],
   "source": [
    "pred_salary = logreg.predict(X_test)"
   ]
  },
  {
   "cell_type": "code",
   "execution_count": 43,
   "metadata": {},
   "outputs": [
    {
     "name": "stderr",
     "output_type": "stream",
     "text": [
      "/Users/matt_dynasty/anaconda2/lib/python2.7/site-packages/sklearn/metrics/ranking.py:571: UndefinedMetricWarning: No positive samples in y_true, true positive value should be meaningless\n",
      "  UndefinedMetricWarning)\n"
     ]
    },
    {
     "data": {
      "image/png": "[encoded data removed]",
      "text/plain": [
       "<matplotlib.figure.Figure at 0x119896050>"
      ]
     },
     "metadata": {},
     "output_type": "display_data"
    },
    {
     "data": {
      "image/png": "[encoded data removed]",
      "text/plain": [
       "<matplotlib.figure.Figure at 0x11cf2d6d0>"
      ]
     },
     "metadata": {},
     "output_type": "display_data"
    },
    {
     "data": {
      "image/png": "[encoded data removed]",
      "text/plain": [
       "<matplotlib.figure.Figure at 0x1188787d0>"
      ]
     },
     "metadata": {},
     "output_type": "display_data"
    }
   ],
   "source": [
    "from sklearn.preprocessing import label_binarize\n",
    "from sklearn.metrics import accuracy_score, classification_report, roc_curve, auc, confusion_matrix\n",
    "\n",
    "categories =[1, 2, 3]\n",
    "yhat_pp = logreg.predict_proba(X_test)\n",
    "\n",
    "y_test_roc = label_binarize(y_test, classes=categories)\n",
    "\n",
    "# Compute ROC curve and ROC area for each class\n",
    "fpr = dict()\n",
    "tpr = dict()\n",
    "roc_auc = dict()\n",
    "for i in range(len(categories)):\n",
    "    fpr[i], tpr[i], _ = roc_curve(y_test_roc[:, i], yhat_pp[:, i])\n",
    "    roc_auc[i] = auc(fpr[i], tpr[i])\n",
    "\n",
    "# Plot of a ROC curve for a specific class\n",
    "for i in range(len(categories)):\n",
    "    plt.figure()\n",
    "    plt.plot(fpr[i], tpr[i], label='ROC curve (area = %0.2f)' % roc_auc[i])\n",
    "    plt.plot([0, 1], [0, 1], 'k--')\n",
    "    plt.xlim([0.0, 1.0])\n",
    "    plt.ylim([0.0, 1.05])\n",
    "    plt.xlabel('False Positive Rate')\n",
    "    plt.ylabel('True Positive Rate')\n",
    "    plt.title('ROC curve for ' + str(categories[i]))\n",
    "    plt.legend(loc=\"lower right\")\n",
    "    plt.show()"
   ]
  },
  {
   "cell_type": "markdown",
   "metadata": {},
   "source": [
    "## Naive Bayes Model"
   ]
  },
  {
   "cell_type": "code",
   "execution_count": 44,
   "metadata": {},
   "outputs": [
    {
     "name": "stdout",
     "output_type": "stream",
     "text": [
      "             precision    recall  f1-score   support\n",
      "\n",
      "          1       0.60      0.46      0.52       114\n",
      "          2       0.52      0.79      0.63       139\n",
      "          3       0.87      0.45      0.59        92\n",
      "\n",
      "avg / total       0.64      0.59      0.58       345\n",
      "\n"
     ]
    }
   ],
   "source": [
    "# Trying Naive Bayes\n",
    "from sklearn.naive_bayes import GaussianNB\n",
    "\n",
    "classifier = GaussianNB()\n",
    "GNB_scores = cross_val_score(classifier, X_train, yg_train, cv=5)\n",
    "classifier.fit(X_train, yg_train)\n",
    "classifier.score(X_test, yg_test)\n",
    "print classification_report(yg_test, classifier.predict(X_test))"
   ]
  },
  {
   "cell_type": "code",
   "execution_count": 45,
   "metadata": {},
   "outputs": [],
   "source": [
    "# Predicting the test set results\n",
    "yg_pred = classifier.predict(X_test)"
   ]
  },
  {
   "cell_type": "code",
   "execution_count": 46,
   "metadata": {},
   "outputs": [
    {
     "name": "stdout",
     "output_type": "stream",
     "text": [
      "[[ 52  60   2]\n",
      " [ 25 110   4]\n",
      " [ 10  41  41]]\n"
     ]
    }
   ],
   "source": [
    "# Create the confusion matrix\n",
    "from sklearn.metrics import confusion_matrix\n",
    "\n",
    "cm = confusion_matrix(yg_test, yg_pred)\n",
    "print cm"
   ]
  },
  {
   "cell_type": "markdown",
   "metadata": {},
   "source": [
    "#### The precision score for NB is 0.63. The LogReg precision was 0.65, not significantly much better. "
   ]
  },
  {
   "cell_type": "code",
   "execution_count": 47,
   "metadata": {},
   "outputs": [],
   "source": [
    "pred_salary = classifier.predict(X_test)"
   ]
  },
  {
   "cell_type": "code",
   "execution_count": 48,
   "metadata": {},
   "outputs": [
    {
     "data": {
      "image/png": "[encoded data removed]",
      "text/plain": [
       "<matplotlib.figure.Figure at 0x11cf20f90>"
      ]
     },
     "metadata": {},
     "output_type": "display_data"
    },
    {
     "data": {
      "image/png": "[encoded data removed]",
      "text/plain": [
       "<matplotlib.figure.Figure at 0x1198fb290>"
      ]
     },
     "metadata": {},
     "output_type": "display_data"
    },
    {
     "data": {
      "image/png": "[encoded data removed]",
      "text/plain": [
       "<matplotlib.figure.Figure at 0x1187c8fd0>"
      ]
     },
     "metadata": {},
     "output_type": "display_data"
    }
   ],
   "source": [
    "from sklearn.preprocessing import label_binarize\n",
    "\n",
    "categories =[1, 2, 3]\n",
    "yhat_pp = classifier.predict_proba(X_test)\n",
    "\n",
    "y_test_roc = label_binarize(y_test, classes=categories)\n",
    "\n",
    "# Compute ROC curve and ROC area for each class\n",
    "fpr = dict()\n",
    "tpr = dict()\n",
    "roc_auc = dict()\n",
    "for i in range(len(categories)):\n",
    "    fpr[i], tpr[i], _ = roc_curve(y_test_roc[:, i], yhat_pp[:, i])\n",
    "    roc_auc[i] = auc(fpr[i], tpr[i])\n",
    "\n",
    "# Plot of a ROC curve for a specific class\n",
    "for i in range(len(categories)):\n",
    "    plt.figure()\n",
    "    plt.plot(fpr[i], tpr[i], label='ROC curve (area = %0.2f)' % roc_auc[i])\n",
    "    plt.plot([0, 1], [0, 1], 'k--')\n",
    "    plt.xlim([0.0, 1.0])\n",
    "    plt.ylim([0.0, 1.05])\n",
    "    plt.xlabel('False Positive Rate')\n",
    "    plt.ylabel('True Positive Rate')\n",
    "    plt.title('ROC curve for ' + str(categories[i]))\n",
    "    plt.legend(loc=\"lower right\")\n",
    "    plt.show()"
   ]
  },
  {
   "cell_type": "markdown",
   "metadata": {},
   "source": [
    "# Job Category determinants"
   ]
  },
  {
   "cell_type": "markdown",
   "metadata": {},
   "source": [
    "#### Here we only need to use the title and job description column."
   ]
  },
  {
   "cell_type": "code",
   "execution_count": 49,
   "metadata": {},
   "outputs": [
    {
     "data": {
      "text/plain": [
       "array([u'VP, Business Data Analyst, Enterprise Data Strategy, Data Management Office',\n",
       "       u'Data Architect', u'Data Analyst', u'Data Manager',\n",
       "       u'Head, Big Data Engineering (Chief Data Office)',\n",
       "       u'Data Lead, FCC Screening, Chief Data Office',\n",
       "       u'Senior Data Analyst',\n",
       "       u'Data Analyst, Group Data Management Office (1 year contract)',\n",
       "       u'Data Analyst, Digital Bank', u'Senior Data Business Analyst',\n",
       "       u'DATA ANALYST - CONTRACT', u'Big Data Development Lead',\n",
       "       u'Big Data Implementation Lead', u'Data Engineer, Digital Bank',\n",
       "       u'VP, Data Analyst, GTO', u'Associate, Data Operations',\n",
       "       u'Enterprise Data Strategy Consultant',\n",
       "       u'Data Scientist | Singapore', u'Business Data Analyst',\n",
       "       u'Associate, Data Operations (Contract)',\n",
       "       u'DevOps Engineer (Chief Data Office)',\n",
       "       u'Data Scientist (Multi-Asset Investment)',\n",
       "       u'Data Analyst, Group Customer Analytics & Decisioning',\n",
       "       u'Fund Accounting - Data Management',\n",
       "       u'Application Support Analyst, Reference Data Team',\n",
       "       u'Enterprise Products - Index Data Quality Analyst - Singapore',\n",
       "       u'Technology - Data Analyst (Fraud Investigation)',\n",
       "       u'Application Support Specialist (Back Office/ Data Warehouse)',\n",
       "       u'Data Modeler, Digital Bank - Engagement Lab',\n",
       "       u'Analyst, EDS & S (Data Services)',\n",
       "       u'Senior Business Analyst - Data Migration',\n",
       "       u'Big Data Java Developer', u'Data Scientist (Investments)',\n",
       "       u'Credit Risk Data Analyst for Group Credit Analytics, Risk Portfolio Management',\n",
       "       u'Manager - Data Transformation Integrated Middle Office',\n",
       "       u'Head of Data Science - Fraud / Risk',\n",
       "       u'Big Data Software Engineer   Regulatory Reporting Technology',\n",
       "       u'Private Wealth Management, Data Governance and Analytics - Senior Manager',\n",
       "       u'DevOps Practitioner / Automation Expert (Chief Data Office)',\n",
       "       u'COBAM Data Analytics (Tableau, 6 months contract MBFC)',\n",
       "       u'Equities: Assistant Vice President / Vice President, Equities Data and Analytics Software Developer, Global Markets Technology',\n",
       "       u'VP/AVP, Senior Business Intelligence Specialist, Data Management Office',\n",
       "       u'GMOT: Assistant Vice President / Vice President, Reference Data Scala Developer, Global Markets Technology',\n",
       "       u'Head of APAC Infrastructure', u'Senior SAS Programmer',\n",
       "       u'Assistant Vice President, Information Management - Customer Value Management',\n",
       "       u'VP/FVP, Strategic/Business Intelligence Analyst',\n",
       "       u'Core Strat Developer', u'Senior Business Analyst',\n",
       "       u'VP/AVP, Business Intelligence, Group Finance',\n",
       "       u'AVP/MGR, Financial Reporting & Management Accounting Change Management Support, Group Finance',\n",
       "       u'Senior Product Consultant',\n",
       "       u'VP/AVP, Basel Credit & Market Risk Change Management Support, Group Finance',\n",
       "       u'Cyber Security Advanced Adversary Team Member Intelligence Senior Analyst',\n",
       "       u'Investment Services Analyst (Contract)', u'C++ Developer',\n",
       "       u'Business Analyst, Regulatory Reporting Technology, Associate',\n",
       "       u'AVP / VP Risk Analytics - Capital Allocation',\n",
       "       u'Senior Software Engineer',\n",
       "       u'Security Operations Center (Fraud Analyst) Cyber Security',\n",
       "       u'Development Lead',\n",
       "       u'AVP/Senior Associate, Business Analyst - Risk Management Group',\n",
       "       u'Financial Analytics and Strategy',\n",
       "       u'Cloud Services, Senior Technical Solutions Engineer',\n",
       "       u'Application Support (Linux/ Web Infrastructure), Associate',\n",
       "       u'Assistant / Vice President, Portfolio & Regulatory Management   Retail Analytics (Secured)',\n",
       "       u'VP - Quant Validation (Exotic Products)',\n",
       "       u'AVP, Finance Change Analyst (FCA)',\n",
       "       u'GMOT: Assistant Vice President, Software Developer, Global Markets Technology',\n",
       "       u'Technology, Fusion Cyber Analytics Production Engineering Associate, Singapore',\n",
       "       u'Java Software Developer - Payments Technology, Associate',\n",
       "       u'Java Application Developer - Enterprise Application',\n",
       "       u'Microsoft Windows Infrastructure Developer, Associate',\n",
       "       u'Sustained Engineering (SE) Unix   Infrastructure Developer, Associate',\n",
       "       u'Quant Developer (C++)', u'Senior Enterprise Cloud Engineer',\n",
       "       u'Infrastructure Senior Technical Analyst NICE Voice Level 3 Specialist',\n",
       "       u'Stratus - Virtual Operating System (VOS) System Engineer',\n",
       "       u'Developer', u'Business Analyst, Financial Crime Compliance',\n",
       "       u'Senior Test Manager (Private Banking/Wealth Management)',\n",
       "       u'Network Services Level 3',\n",
       "       u'Finance - Structured Trade Control and Valuation - Associate',\n",
       "       u'Analyst - Report Production',\n",
       "       u'Technology Business Analyst   Corporate (Credit Origination and Processing)',\n",
       "       u'Software Engineer with a Global Trading Firm',\n",
       "       u'Senior Technical Lead/Architect',\n",
       "       u'Senior/Full Stack Developer with a Global Bank',\n",
       "       u'Scala Developer with a Global Bank',\n",
       "       u'Temenos T24 Software Engineer Banking Technology',\n",
       "       u'Business Transformation - Global Investment Banking, Capital Markets',\n",
       "       u'Associate Consultant (Financial Crime Analytics)',\n",
       "       u'Advance Analytics Analyst', u'Operations Analyst',\n",
       "       u'Software Development Manager (Financial Institution)',\n",
       "       u'Scalaz Developer', u'Cloud Engineer with a Global Bank',\n",
       "       u'Desk Quantitative analyst', u'Senior Automation Developer',\n",
       "       u'Quantitative Specialist for Operational Risk and Monitor Models',\n",
       "       u'Wealth Management, UI / UX Front End Software Engineer, Associate',\n",
       "       u'Treasury & Market Risk Murex Systems Analyst   Market Risk',\n",
       "       u'AVP, GFCA-Group Accounting Policies', u'Business Analyst',\n",
       "       u'HTML5 UI Developer',\n",
       "       u'Aladdin Business, Aladdin Client Engagement, Associate',\n",
       "       u'Officer - Software Developer, Information Technology',\n",
       "       u'Analyst Developer', u'Associate - Technology Support',\n",
       "       u'Big Data Architect', u'DBA (Oracle RAC)',\n",
       "       u'Performance Engineer',\n",
       "       u'Applications Development Tech Lead Analyst',\n",
       "       u'Analytics Project Manager (FinTech)', u'Senior Devops Engineer',\n",
       "       u'Risk Analyst', u'Assistant Actuarial Manager', u'Analyst',\n",
       "       u'Java/J2EE Developer   12 months contract',\n",
       "       u'Server Side Java Engineer - Investment Bank, Singapore',\n",
       "       u'L2 Support - Avaloq', u'eFX Quant Trader',\n",
       "       u'Chef / Linux Engineer (Global Financial Company)',\n",
       "       u'Senior Windows Engineer/ SME',\n",
       "       u'AI Engineer at Panasonic Industrial Devices Singapore',\n",
       "       u'AVP / Manager, Portfolio & Regulatory Management  Business Banking Analytics Modelling',\n",
       "       u'AVP, Data Analytics (12 months contract), Sector Solution Group/Group Wholesale Banking',\n",
       "       u'Big Data Developer', u'Computer Vision Software Engineer',\n",
       "       u'Data Scientist',\n",
       "       u'R&D Software Engineer - C++, Computer Vision, Machine Learning, Deep Learning',\n",
       "       u'Semiconductor Manufacturing Equipment Data Scientist',\n",
       "       u'Senior Software Engineers(C++, Go, Node.js, Javascript, Solidity, Python)',\n",
       "       u'Software Engineer, Full Stack (Node.JS, Python and REACT)',\n",
       "       u'Video Analytics & Big Data Platform Software Architect',\n",
       "       u'AI Engineer', u'AI Scientist', u'Business Intelligence',\n",
       "       u'EDM Technician[CNC EDM/ Wirecut, Preferably Sodick machines]',\n",
       "       u'Sales Manager[Feight forward/maritime satellite communications ]',\n",
       "       u'Java Systems Analyst',\n",
       "       u'Regional Sales Manager, Luxury Timepiece (Swiss Brand/Orchard/Up to $10,000)',\n",
       "       u'Data Governance Business Analyst', u'Data Engineer',\n",
       "       u'Software Engineer (System support/Project Management/PHP/Data collection)',\n",
       "       u'Facilities Engineer/Project Engineer[Data Centre, M&E; ]',\n",
       "       u'IT Data Center + Incident management Site Support Engineer',\n",
       "       u'Account Assistant [AP / AR / GL / SAP / Scalar / Data Entry / URGENT]',\n",
       "       u'IT Account Manager (ITSM/Cyber Security/Cloud/Big Data Sectors/Software)',\n",
       "       u'Sales Engineer[Industrial automation/Electrical/Machine]',\n",
       "       u'Sales Executive / Account Serving Executive / Business Development',\n",
       "       u'Account Executive // Full Set // 5.5 days ',\n",
       "       u'CRM Operations Analyst ~ MNC',\n",
       "       u'Admin Assistant / Data Entry / Account Assistant',\n",
       "       u'1 year Contract Financial Analyst, $3.8K to $4.8K',\n",
       "       u'SALES DIRECTOR ',\n",
       "       u'Senior Business Application Analyst / Alt Sat @ Jurong (LL)',\n",
       "       u'Commercial Executive',\n",
       "       u'Temp Data Entry/ Admin Officer x 2 (US MNC) (Ref: JTL)',\n",
       "       u'Urgent Opening for Data Analyst/Scientist (SQL and Excel) ',\n",
       "       u'Customer Service Assistant [ Data Entry/ Client Management] ',\n",
       "       u'[PUBLIC SECTOR] DATA COLLECTORS x15! URGENT! $2000!! TRAINING PROVIDED',\n",
       "       u'System Analyst [SQL script/relational databases/web-based systems]',\n",
       "       u'Recruitment Consultant (Banking & Finance Specialisation) | Ref: KAR',\n",
       "       u'Facilities Engineer/Project Engineer[Electrical knowledge, M&E; ]',\n",
       "       u'Credit Risk Analyst ',\n",
       "       u' Import Officer [Air / Sea / Logistics / TradeNet / SAP / BANN] URGENT',\n",
       "       u'IT Business Analyst [PHP/ ASP /ASP.NET/ SQL Server /MySql]',\n",
       "       u'Water Treatment Service Technician [Kaki Bukit / 5 days] ',\n",
       "       u'Opening for Business Analyst at Indonesia (Jakarta)',\n",
       "       u'Business Objects Specialist **Government** 1 year contract',\n",
       "       u'Business development / Client Service Executive',\n",
       "       u'IT & Multimedia Executive (Adobe Photoshop/Active Directory/IP Networking',\n",
       "       u'Senior Software Developer [Java / HTML / MySQL / Design / Database]',\n",
       "       u'Procurement Sourcing Executive',\n",
       "       u'Data Scientist / Data Analyst Intern',\n",
       "       u'Data Scientist / Engineer (Analyst)', u'Intern - Data Scientist',\n",
       "       u'Intern  Data Scientist (ITDS17)',\n",
       "       u'Natural Language Processing Data Scientist',\n",
       "       u'Data Scientist Internship', u'Data Scientist Intern',\n",
       "       u'Data Scientist Engineer',\n",
       "       u'Quantitative Analyst / Data Scientist',\n",
       "       u'Data Scientist and Engineer', u'Data Scientists',\n",
       "       u'Asia Mobile Marketing Data Scientist Intern',\n",
       "       u'(Zsea) Mobile Marketing Data Scientist (Intern)',\n",
       "       u'Data Scientist/Analytics Associate',\n",
       "       u'Data Crawling Engineer Intern', u'Marketing / Admin Assistant',\n",
       "       u'Data Analyst Intern', u'Chatbot Development Data / Nlp Engineer',\n",
       "       u'Data Science Intern', u'Data Engineer Intern',\n",
       "       u'Digital Data Analytics Intern',\n",
       "       u'Data Visualization and Wrangling Intern',\n",
       "       u'Data Crawling Engineer', u'Big Data Intern',\n",
       "       u'Data Analytics Intern',\n",
       "       u'Full Stack Software Engineer / Computer Scientist',\n",
       "       u'Workforce Data Analyst Intern', u'Online Video Data Analyst',\n",
       "       u'Research Engineer Intern',\n",
       "       u'Account Coordinator Intern (Social)',\n",
       "       u'Software Developer Intern', u'Junior Planning Intern',\n",
       "       u'Regional Communications Coordinator',\n",
       "       u'Account Coordinator Intern (Advertising)',\n",
       "       u'Account Coordinator Intern',\n",
       "       u'Marketing, Branding & Creative Specialist',\n",
       "       u'Social Media Executive', u'IT Intern', u'Product & UX',\n",
       "       u'Research & Operations', u'Quantitative Analyst',\n",
       "       u'Front End Developer Intern', u'Full-time Tech Intern',\n",
       "       u'Marketing Intern', u'Python Developer Intern',\n",
       "       u'Web Developer Intern',\n",
       "       u'Experienced Python Developer-software Engineer',\n",
       "       u'Back End Developer', u'Front End Developer',\n",
       "       u'Senior Data Engineer',\n",
       "       u'Senior Building Services Engineer (Data Centre)',\n",
       "       u'Datastage Consultant', u'O&T - Data Analyst Lead - 18035524',\n",
       "       u'Research & Development - Data Scientist - Hair Care - Singapore',\n",
       "       u'DWH Consultant', u'Data Warehouse and Reporting Specialist',\n",
       "       u'Senior Data Analyst (JD#4216)', u'Research Fellow',\n",
       "       u'Master Data Analyst',\n",
       "       u'AVP / Senior Associate, Lead Development Engineer, Grp Consumer Banking & Big Data Analytics (180002YV',\n",
       "       u'AVP / Senior Assoc, Data Scientist - Data Analytics & Robotics Team, Group Audit (180001M7)',\n",
       "       u'Research Engineer (Data Analytics)  /  I2R (A*STAR)',\n",
       "       u'Senior Associate / Associate, Avaloq Support Analyst, Group Consumer Banking & Big Data, T&O(1800033I)',\n",
       "       u'BI Developer', u'SENIOR AI DATA SCIENTIST (GENERALIST)',\n",
       "       u'Network Engineer, Security & Data Entreprise',\n",
       "       u'Smarthub Big Data Engineer', u'DATA ENGINEER',\n",
       "       u'Senior Data Scientist - F&R', u'ODC QA Software Engineer',\n",
       "       u'Vice President, Business Analyst - Data Services',\n",
       "       u'Data Center Engineer',\n",
       "       u'Engineer  /  Senior Engineer Factory Automation',\n",
       "       u'IT - SENIOR BIG DATA ENGINEER', u'DATA SCIENTIST',\n",
       "       u'Senior Manager - Big Data, Advisory',\n",
       "       u'Data Engineer  /   Scientist',\n",
       "       u'Scientist (Data Analytics)  /  I2R (A*STAR)',\n",
       "       u'AVP, BigData Engineer, Group Consumer Banking and Big Data Analytics Technology (180000J9)',\n",
       "       u'APAC Data Scientist', u'Data Platform Engineer',\n",
       "       u'Big Data Engineer',\n",
       "       u'Senior Engineer, DCIM ( Data Center Infrastructure Management )',\n",
       "       u'BIG DATA ENGINEER', u'data scientist',\n",
       "       u'Data Center Facilities Engineer', u'AVP Data Analyst',\n",
       "       u'Data Scientist Consultant',\n",
       "       u'Data Sciences & Analytics Engineer',\n",
       "       u'Data Governance Senior Analyst, APAC Data Governance',\n",
       "       u'VP  /  AVP, Data Scientist, IBG Digital, Institutional Banking Group (180000ZI)',\n",
       "       u'Data Managament Analyst', u'Mid Senior Data Scientist',\n",
       "       u'Data Scientist Big Data Hadoop Hive Machine Learning Business Analytics',\n",
       "       u'Senior Associate, Big Data IM, Advisory',\n",
       "       u'Senior Associate  /  Associate, Data Scientist, IBG Digital, Institutional Banking Group (180000ZI)',\n",
       "       u'System Engineer - Data Centre Automation',\n",
       "       u'Risk (Data) Analyst', u'Data scientist',\n",
       "       u'Analyst, Data Science and Intelligence (1 Year Contract)',\n",
       "       u'Market Data Business Analyst  /  Project Manager',\n",
       "       u'Lead Engineer, DCIM ( Data Centre Infrastucture Management)',\n",
       "       u'AI and Data Engineer',\n",
       "       u'AI DATA SCIENTIST (MACHINE COMPREHENSION)',\n",
       "       u'VP, Data Engineer, Asian Insights Office, Group Research (180002PI)',\n",
       "       u'Data centre operations engineer', u'Reinsurance Data Analyst',\n",
       "       u'Senior  /  Lead Consultant (Data Scientist)',\n",
       "       u'Senior Data Transformation Analyst',\n",
       "       u'DevOps Engineer (Big Data)',\n",
       "       u'Data Scientist / Senior Data Scientist',\n",
       "       u'Contract Staff (Senior), Business Analyst, Data & Transformation, Technology & Operations (18000308)',\n",
       "       u'Manufacturing Central Team Data / Label Lead Engineer',\n",
       "       u'Contract Staff (Senior), Application Development Lead, Institutional Banking Tech, T&O (18000190)',\n",
       "       u'Business Application Analyst (Finance, WMS & Data Management)',\n",
       "       u'Fiber Optics Cabling Engineer (Data Centre)',\n",
       "       u'Engineer, Data Centre Operations', u'Data Analytics Analyst',\n",
       "       u'Software Engineer, Data Services', u'DATA ANALYST',\n",
       "       u'Data Centre Operations Engineer', u'Bioinformatics Specialist',\n",
       "       u'APAC Lead Data Scientist',\n",
       "       u'Contract - Data Scientist for Business Analytics (BA)',\n",
       "       u'Data Analyst / Scientist', u'Senior  /  Staff Data Scientist',\n",
       "       u'CyberSecurity Big Data Lead Engineer',\n",
       "       u'Associate / AVP, Senior IT Analyst (Big Data)',\n",
       "       u'High-Performance Data Engineer', u'Research Associate',\n",
       "       u'Lead  /  Senior Data Scientist',\n",
       "       u'Senior Electrical Engineer (Data Centre)',\n",
       "       u'Data Scientist: Urban-Rural Systems (UR-Scape)',\n",
       "       u'Senior Advanced Software Engineer',\n",
       "       u'Healthcare Data Insights Analyst',\n",
       "       u'Contract Operations Analyst (Reference Data)',\n",
       "       u'Data Scientist - Grab Financial',\n",
       "       u'Software Engineer(Enterprise data / APIs / UIs / Ontology / Semantic)',\n",
       "       u'VP / AVP, DevOps Engineer, Group Consumer Banking and Big Data Analytics Technology, T&O (180002KI)',\n",
       "       u'Data Engineer / Senior Data Engineer',\n",
       "       u'Data Science Training Program Associate', u'AI DATA ENGINEER',\n",
       "       u'Scientist (Data Analytics /  Deep Learning)  /  I2R (A*STAR)',\n",
       "       u'Senior Consultant  /  Consultant  Technology - Data Engineer (Future Of Mobility)  2 Years Contract',\n",
       "       u'Data Analyst @ Singapore',\n",
       "       u'Global CDS Operations OneTouch Data Analyst',\n",
       "       u'Algorithm /  Data Scientist', u'AI DATA VISUALIZATION ENGINEER',\n",
       "       u'Data / Business Analyst (1 year contract)',\n",
       "       u'Manager, Big Data IM, Advisory',\n",
       "       u'Storage Engineer  /  Data Storage ~ Up $5000',\n",
       "       u'Supply Chain Analyst', u'Data Center System Engineer',\n",
       "       u'BE Data and Systems Engineer', u'APAC Data Engineer',\n",
       "       u'Business /  Data Analyst, Corporate Technology - Global Surveillance Technology, Associate',\n",
       "       u'SENIOR AI DATA SCIENTIST (MACHINE COMPREHENSION)',\n",
       "       u'Data Engineer (Hadoop ETL, Data Science Team) - perm in Banking',\n",
       "       u'Senior Associate / Associate, MIS Analyst, Group Consumer Banking & Big Data Analytics Tech (180002T5)',\n",
       "       u'AVP  /  Senior Associate, Data Scientist, Risk Management Group (180001O1)',\n",
       "       u'O&T - ESST Data Fabric IT Business Senior Analyst Singapore -18028449',\n",
       "       u'Required Data Scientist',\n",
       "       u'MCT MQE Fault Detection / Data Engineer',\n",
       "       u'Senior Data Scientist', u'Data Centre Engineer',\n",
       "       u'Data Scientist  Marketing (Partner)',\n",
       "       u'Data Science and Analytics Consultants',\n",
       "       u'DATA ANALYST(Tableau, Spotfire, Kibana, Qlikview)',\n",
       "       u'Senior Research Engineer (Data Analytics)  /  I2R (A*STAR)',\n",
       "       u'Research Data Scientist', u'Data Analyst, Pricing Analytics',\n",
       "       u'Big Data Software Engineer',\n",
       "       u'Data Analyst - Gaming attachment 8 Months cambodia',\n",
       "       u'Data Scientist  /  Customer Analyst x 5',\n",
       "       u'Data Scientist, APAC (Singapore)', u'IT Data Analyst',\n",
       "       u'Walkin interviews 29th June 11:00 AM Onwards',\n",
       "       u'Data Center Support Engineer', u'Data Warehousing Consultant',\n",
       "       u'Lead Data Analyst, Group Data Management Office',\n",
       "       u'Data Analyst (Crypto)',\n",
       "       u'VP  /  AVP, Data Scientist, Investment and Trading Technology, Technology and Operations  (180002YF)',\n",
       "       u'Data Analyst - Data Scientist',\n",
       "       u'Senior Software Engineer (Chief Data Office)',\n",
       "       u'Facilities Engineer[Data Centre, M&E]',\n",
       "       u'Senior / Data Analyst (Data Science Team)',\n",
       "       u'Data Analyst (Fintech)', u'Senior Data Technologist',\n",
       "       u'Data Network Analyst', u'Data, Software and Operations Engineer',\n",
       "       u'Associate  /  Senior Data Scientist', u'Project Officer',\n",
       "       u'Senior  /  Consultant (Data Scientist)',\n",
       "       u'Enterprise Data Software Engineer',\n",
       "       u'Data Scientist Lead, IBG Digital, Institutional Banking Group (180002JP)',\n",
       "       u'Data Quality Officer', u'TeSA pilot programme',\n",
       "       u'Senior Associate - Data and Analytics, Advisory',\n",
       "       u'Datawarehouse Consultant', u'ETL Developer',\n",
       "       u'VP, Senior Visualisation Engineer, Group Consumer Banking and Big Data Analytics Tech (180001R9)',\n",
       "       u'QE Fault Detection / Data Engineer',\n",
       "       u'Senior / Data Science Engineer',\n",
       "       u'Senior Bioinformatics Specialist', u'Sr Report Developer',\n",
       "       u'VP  /  AVP, Data Scientist - Analytic Centre of Excellence, Data Management, T&O (170003CZ)',\n",
       "       u'Iron Ore Data Scientist', u'Senior AI Data Engineer',\n",
       "       u'Data Scientist  /  Analyst ( UP $7K /  JURONG /  PhD /  Masters)',\n",
       "       u'VP, Data Scientist, Business Analytics, Consumer Banking Group (1800016V)',\n",
       "       u'AML Analyst', u'Operation Analyst - Ticketing Experience',\n",
       "       u'Data Operations Analyst', u'Data Center Operations Analyst',\n",
       "       u'Operations Officer', u'Financial Analyst',\n",
       "       u'Equity Analyst - Associate/Graduate Level',\n",
       "       u'Talent Acquisition Recruiter', u'Lead Data Scientist'],\n",
       "      dtype=object)"
      ]
     },
     "execution_count": 49,
     "metadata": {},
     "output_type": "execute_result"
    }
   ],
   "source": [
    "# checking out the \n",
    "df['title'].unique()"
   ]
  },
  {
   "cell_type": "code",
   "execution_count": 50,
   "metadata": {},
   "outputs": [
    {
     "data": {
      "text/html": [
       "<div>\n",
       "<style scoped>\n",
       "    .dataframe tbody tr th:only-of-type {\n",
       "        vertical-align: middle;\n",
       "    }\n",
       "\n",
       "    .dataframe tbody tr th {\n",
       "        vertical-align: top;\n",
       "    }\n",
       "\n",
       "    .dataframe thead th {\n",
       "        text-align: right;\n",
       "    }\n",
       "</style>\n",
       "<table border=\"1\" class=\"dataframe\">\n",
       "  <thead>\n",
       "    <tr style=\"text-align: right;\">\n",
       "      <th></th>\n",
       "      <th>title</th>\n",
       "      <th>jd</th>\n",
       "    </tr>\n",
       "  </thead>\n",
       "  <tbody>\n",
       "    <tr>\n",
       "      <th>0</th>\n",
       "      <td>VP, Business Data Analyst, Enterprise Data Strategy, Data Management Office</td>\n",
       "      <td>VP Business Data Analyst Enterprise Data Strategy Data Management Office The Data Management Office DMO is a business function that covers Enterprise Data Governance Data Management Big Data Analytics and Enterprise Data Strategy Data Management Office ensures that UO B meets all data governance standards set by data regulators and optimize data management and usage to help UO B make smarter faster and more accurate decisions and to improve operational efficiency Job Description The Senior Business Data Analyst is the primary liaison between the business and I T Responsibilities include leading business users I T project teams and external partners to drive decision making and define requirements for application development ensuring that business needs are being met defining and negotiating project scope creating documentation of business requirements which guide application development efforts working closely with the business team development team and quality assurance team to ensure successful implementation of business requirements and working collaboratively with I T and business partners to resolve issues Job responsibilities Perform analysis of business issues provide recommendations for possible solutions work with Business users and I T project teams to drive decision making and define requirements for application development ensuring that business needs are being met Responsible for User Acceptance Testing Work with various team streams to co ordinate and orchestral testing efforts where handshake s and testing entry criteria are established Including executes test cases and development of test scripts including acceptance criteria Perform data profiling and gap analysis source to target mappings data issue capturing resolution and escalation Provide end to end project delivery support including workshop planning conducting of workshop walkthrough defect support continuous validation and assisting with rollout activities Able to perform complex SQL scripting to meet user requests Complete documentation for business requirements which guide application development efforts working closely with the Development team and Business teams to ensure successful implementation of business requirements Work with I T and Business partners to build support processes and procedures provide ongoing support to manage application SLA resolve a majority of the problems and fulfill service requests that do not require application development Analyze opportunities to improve application reliability provide recommendations for possible solutions work with I T and Business partners to implement solutions that enhance application and infrastructure reliability Assist with the development and maintenance of the business requirements process used to define requirements for systems projects assist with the definition of project scope and create appropriate scope documentation Communicates project status and escalate s issues as needed Job requirements Bachelors degree in Business Administration MIS or related field and more than years work experience in banking industry preferably with business functional knowledge in Risk or Finance domain Writing and Verbal skills with a meticulous attention to detail to communicate information effectively to leads managers and technical staff Interpersonal skills to help negotiate priorities and to resolve conflicts among project stakeholders such as customers project management and technical staff Knowledge of architect ing and modeling in Systems Integration Data Warehousing BI tools Big Data platforms and experienced in the use of analytical query tools Must be able to query and understand database solutions Extensive experience designing developing and documenting data driven solutions including capturing architectures metadata systems data dictionaries databases and applications Organizational skills to work in a fast paced environment on multiple projects and tasks concurrently while also working with the vast array of information gathered during elicit ation and analysis and to cope with rapidly changing information</td>\n",
       "    </tr>\n",
       "    <tr>\n",
       "      <th>1</th>\n",
       "      <td>Data Architect</td>\n",
       "      <td>An exciting Data Architect role has just become available on an initial month contract The data architect will be supporting a high profile portfolio of programmes a t a leading global bank based in Singapore About the Data Architect Role In this business critical role you will be tasked to provide vision leadership analysis and design expertise in creating and executing an Enterprise Data Strategy for a portfolio of programmes a t the group level You should own all data modelling aspects of integrating Bank Service Catalogue data with any new data sources specific to the programmes they are covering and support Senior Project Managers in all aspects of data delivery Key Responsibilities Create data strategy for the program based on the banks standard architecture collaborate with technology and management teams to understand structural requirements and define standards for how data will be stored consumed integrated and managed across the program Develop maintain and evan gel i ze data architecture principles policies and standards Work with business analysts data office source system support teams and other partners to prioritise and drive the data deliverables across multiple data platform efforts such as data acquisition data modelling data distribution data analytics and reporting Work closely with business leaders proactively communicating and collaborating with them throughout the entire delivery lifecycle Provide leadership and guidance for developing and maintaining data architecture and data quality management framework standards which adhere to industry best practices Articulate the trade offs benefits and risks of all architecture and design solutions as in when required Collaborate closely with technology data office and business partners to define and implement effective and efficient solutions to business challenges and opportunities that require data management or data analytics involvement Possess strong understanding of data modelling tools and standards ETL tools and big data technologies Create a culture of data transparency and data driven decision making by listening for the pain points and concrete ly showing how you can solve them Clear and concise communication interpersonal organisational and team building skills business judgement and proven leadership To succeed in this Data Architect role you need strong data management data analytics and data visualisation expertise Key Requirements years exp hands on data architecture data integration business intelligence and data analysis technologies A t least years of exp in leading data delivery teams with architect capacity In depth understanding of data integration best practices leading industry applications amp features such as master data management entity resolution data quality assessment metadata management etc Strong people management skills including the ability to provide candid constructive feedback to analysts and project team members with a focus on accountability and development for team and self Must be comfortable working with all project stakeholders including business users architects project managers business analysts developers test analysts and production support team Certification in TO GAF highly desired Documentation Data Strategy Target Data Architecture Data Classification Reference Architecture Data Quality framework etc Artefacts Business capability models future state architecture roadmap s conceptual data models business context diagrams etc Process Data Modelling As Is To Be Visio Enterprise Architect Erwin Etc Strong data architecture skills using Big Data Hive Spark H Base Had oop ka kf a Sol r SQL NO SQL Microstrategy or Tableau Presentation Skills Data Story telling using visualisation s is must This leading global bank needs no introduction and is recognised as the leader in its field If you fit the above requirements and open to the challenge based on an initial month contract with view to convert to permanent then please apply today Robert Walters Singapore Pte Ltd ROC No E EA Licence No C EA Registration No R Don Zhao</td>\n",
       "    </tr>\n",
       "    <tr>\n",
       "      <th>2</th>\n",
       "      <td>Data Analyst</td>\n",
       "      <td>Leading the way in International Banking We support the people and companies driving investment trade and wealth creation across Asia Africa and the Middle East And our heritage and values are expressed in our brand promise here for good See our Brand and Values As a Data Analyst you will be tasked with managing all aspects of any new work project assessments thoroughly from inception to delivery You will need to build close working relationships with chief data office to design and implement specific data requirements based on bank data standards In addition as Data Analyst you will also work closely with Project teams partners and rd party vendors Key Roles and Responsibilities Work closely with business users to understand their data analysis needs requirements and build specifications that will include clear definition of business value for data analysis approach for extracting the data required from Golden Sources and definition of business rules logic This role will require an alignment to the Bank Data Quality Management Framework to ensure data quality controls governance and compliance is aligned with the Bank Data Strategy and Architecture Proactively develop use cases for the application of data analytics to meet different business needs Build data models scenarios and demonstrate to business the possibilities of generating insights Partner with system and data owner to establish to document Data Standards of individual critical data attributes Perform data quality controls assessment identify gaps and follow up with data owners for remediation Responsible for standard advanced profiling of data attributes to assess data quality Conduct gap analysis against the established DQ MF framework amp guidelines to assess levels of adherence Support transition of data quality and data governance capabilities into B AU You will need to develop a standard set of analytic tools to enable business to perform data analytics Provide data readiness reviews before implementation and manage any issues which may arise from this Data Visualisation This role highly require data story telling skills using data visualisation tools like Microstrategy Tableau etc Qualifications and Skills Documentation Data Dictionary Data Modelling Data Lineage Business Rules DQ Rules Data Standards Etc Report Types Gap Analysis Problem Analysis Completeness Dashboard s Etc Process Data Modelling As Is To Be Visio Enterprise Architect Erwin Etc Strong query language skills SQL Hive H Base ETL Good experience with Business Intelligence tools and Decision Support Systems Strong data analysis skills using Hive Spark Python R Microstrategy and Tableau Proven experience in working with key stakeholders within the business Proven problem solving skills Proven Experience in Data Management and Data Quality Management techniques Stakeholder Management Analysis Presentation Skills Data Story telling using visualisation s is must Soft Skills Communication Negotiation Relationship Building Influencing We are committed to building a culture that fosters a diverse and inclusive environment that free from bias where everyone can realise their full potential and make a positive contribution This is just one of our values that is expressed in our brand promise here for good Apply Now</td>\n",
       "    </tr>\n",
       "    <tr>\n",
       "      <th>3</th>\n",
       "      <td>Data Architect</td>\n",
       "      <td>Leading the way in International Banking We support the people and companies driving investment trade and wealth creation across Asia Africa and the Middle East And our heritage and values are expressed in our brand promise here for good See our Brand and Values The COO Business Services amp Controls team require a Data Architect to provide vision leadership analysis and design expertise in creating and executing an Enterprise Data Strategy for Group COO Projects like Information amp Cyber security ICS transformation in the bank The successful candidate should own all data modelling aspects of integrating Bank Service Catalogue data with any new data sources specific to ICS and support Senior Project Manager in all aspects of data delivery Key Roles and Responsibilities Create Data Strategy for ICS Program based on banks standard architecture collaborate with technology CDO and management teams to understand structural requirements and define standards for how data will be stored consumed integrated and managed across the program Develop maintain and evan gel i ze data architecture principles policies and standards Work with business analysts CDO source system support teams and other partners to prioritize and drive the data deliverables across multiple data platform efforts such as data acquisition data modelling data distribution data analytics and reporting Work closely with business leaders proactively communicating and collaborating with them throughout the entire delivery lifecycle Provide leadership and guidance for developing and maintaining data architecture and DQ MF standards which adhere to industry best practices Articulate the trade offs benefits and risks of all architecture and design solutions as in when required Collaborate closely with I TO CDO and business partners to define and implement effective and efficient solutions to business challenges and opportunities that require data management or data analytics involvement Possess strong understanding of data modelling tools and standards ETL tools and big data technologies Create a culture of data transparency and data driven decision making by listening for the pain points and concrete ly showing how you can solve them Work with the development teams in iterative sprints to implement the model and optimize the performance and scalability of the system through to production Clear and concise communication interpersonal organizational and team building skills business judgment and proven leadership This role highly require candidate with strong data management data analytics and data visualisation expertise Qualifications years exp hands on data architecture data integration business intelligence and data analysis technologies A t least years of exp in leading data delivery teams with architect capacity In depth understanding of data integration best practices leading industry applications amp features such as master data management entity resolution data quality assessment metadata management etc Strong people management skills including the ability to provide candid constructive feedback to analysts and project team members with a focus on accountability and development for team and self Must be comfortable working with all project stakeholders including business users architects project managers business analysts developers test analysts and production support team Able to creatively apply analytical solutions to business problems and can think out of the box in adapting to changes Ability to work under constant pressure to tight deadlines and deliver high quality output Certification in TO GAF highly desired Skills Documentation Data Strategy Target Data Architecture Data Classification Reference Architecture Data Quality framework etc Artefacts Business capability models future state architecture roadmap s conceptual data models business context diagrams etc Process Data Modelling As Is To Be Visio Enterprise Architect Erwin Etc Project Management Methodologies Waterfall SDL C Agile S crum etc Strong data architecture skills using Big Data Hive Spark H Base Had oop ka kf a Sol r SQL NO SQL Microstrategy or Tableau Experience in building conversational BI Artificial Intelligence Machine Learning highly desired Proven Experience in Data Architecture Data Management and Data Quality Management techniques Stakeholder Management Analysis Presentation Skills Data Story telling using visualisation s is must Soft Skills Communication Negotiation Relationship Building Influencing We are committed to building a culture that fosters a diverse and inclusive environment that free from bias where everyone can realise their full potential and make a positive contribution This is just one of our values that is expressed in our brand promise here for good Apply Now</td>\n",
       "    </tr>\n",
       "    <tr>\n",
       "      <th>4</th>\n",
       "      <td>Data Manager</td>\n",
       "      <td>This role reports to the project lead Retail Banking Data Management The successful candidate will adopt best practices and a structured approach towards project management and facilitate country deployment of DQ MF policy and procedures enhance data ownership and capabilities of existing team provide independent assurance of ownership documentation and controls in RB Data Management process Key Roles and Responsibilities Partner with system and process owner to establish end to end lineage of individual data attributes Perform controls assessment identify gaps and follow up with business owners for remediation Responsible for profiling of data attributes to assess quality Define and monitor a t a sub work stream level key risk and issues and manage them as defined in PMP Conduct gap analysis against the established framework amp guidelines to assess levels of adherence Work closely with the system SMEs to implement enhance data quality controls and documentation Support transition of data quality and data governance capabilities into B AU Qualifications and Skills Degree in Accounting Statistics or Computer Science specializing in Information Management or equivalent amp PM certifications required PMP CAP M etc years of work experience in Banking domain involving one or more of the following Core Banking Cards amp Lending products Client on boarding or Due diligence Regulatory or Internal reporting sanctions anti money laundering Risk Management Market Credit or Operational Data Governance or I T or data analysis profiling roles supporting the above areas Strong MS Office skills required Knowledge and experience of SQL experience of working with data profiling and metadata tools will be added advantage Strong communication skills oral written and presentation Able to manage communications a t senior level with process owners and reporting owners in Retail Banking on matters regarding data management Able to work independently and familiar with SC B systems and processes Experience of working with data profiling and metadata tools What you can expect from the role Challenging deadlines Interconnected delivery streams requiring on the ground programme management expertise to effectively manage dependencies critical path amp interlock s Significantly high numbers of stakeholders with diverse viewpoints on data quality amp levels of controls required within respective functions Countless conversations and negotiations with multiple stakeholders across multiple locations Satisfaction in delivering against a key objective for the Group</td>\n",
       "    </tr>\n",
       "  </tbody>\n",
       "</table>\n",
       "</div>"
      ],
      "text/plain": [
       "                                                                         title  \\\n",
       "0  VP, Business Data Analyst, Enterprise Data Strategy, Data Management Office   \n",
       "1                                                               Data Architect   \n",
       "2                                                                 Data Analyst   \n",
       "3                                                               Data Architect   \n",
       "4                                                                 Data Manager   \n",
       "\n",
       "                                                                                                                                                                                                                                                                                                                                                                                                                                                                                                                                                                                                                                                                                                                                                                                                                                                                                                                                                                                                                                                                                                                                                                                                                                                                                                                                                                                                                                                                                                                                                                                                                                                                                                                                                                                                                                                                                                                                                                                                                                                                                                                                                                                                                                                                                                                                                                                                                                                                                                                                                                                                                                                                                                                                                                                                                                                                                                                                                                                                                                                                                                                                                                                                                                                                                                                                                                                                                                                                                                                                                                                                                                                                                                                                                                                                                                                                                                                                                                                                                                                                                                                                                                                                                                                                                                                                                                                                                                                                                                                                                                                                                                                                                                                                                                                                                                                                                                                                                                                                          jd  \n",
       "0                                                                                                                                                                                                                                                                                                                                                                                                                                                                                                                                                                                                                                                                                                                     VP Business Data Analyst Enterprise Data Strategy Data Management Office The Data Management Office DMO is a business function that covers Enterprise Data Governance Data Management Big Data Analytics and Enterprise Data Strategy Data Management Office ensures that UO B meets all data governance standards set by data regulators and optimize data management and usage to help UO B make smarter faster and more accurate decisions and to improve operational efficiency Job Description The Senior Business Data Analyst is the primary liaison between the business and I T Responsibilities include leading business users I T project teams and external partners to drive decision making and define requirements for application development ensuring that business needs are being met defining and negotiating project scope creating documentation of business requirements which guide application development efforts working closely with the business team development team and quality assurance team to ensure successful implementation of business requirements and working collaboratively with I T and business partners to resolve issues Job responsibilities Perform analysis of business issues provide recommendations for possible solutions work with Business users and I T project teams to drive decision making and define requirements for application development ensuring that business needs are being met Responsible for User Acceptance Testing Work with various team streams to co ordinate and orchestral testing efforts where handshake s and testing entry criteria are established Including executes test cases and development of test scripts including acceptance criteria Perform data profiling and gap analysis source to target mappings data issue capturing resolution and escalation Provide end to end project delivery support including workshop planning conducting of workshop walkthrough defect support continuous validation and assisting with rollout activities Able to perform complex SQL scripting to meet user requests Complete documentation for business requirements which guide application development efforts working closely with the Development team and Business teams to ensure successful implementation of business requirements Work with I T and Business partners to build support processes and procedures provide ongoing support to manage application SLA resolve a majority of the problems and fulfill service requests that do not require application development Analyze opportunities to improve application reliability provide recommendations for possible solutions work with I T and Business partners to implement solutions that enhance application and infrastructure reliability Assist with the development and maintenance of the business requirements process used to define requirements for systems projects assist with the definition of project scope and create appropriate scope documentation Communicates project status and escalate s issues as needed Job requirements Bachelors degree in Business Administration MIS or related field and more than years work experience in banking industry preferably with business functional knowledge in Risk or Finance domain Writing and Verbal skills with a meticulous attention to detail to communicate information effectively to leads managers and technical staff Interpersonal skills to help negotiate priorities and to resolve conflicts among project stakeholders such as customers project management and technical staff Knowledge of architect ing and modeling in Systems Integration Data Warehousing BI tools Big Data platforms and experienced in the use of analytical query tools Must be able to query and understand database solutions Extensive experience designing developing and documenting data driven solutions including capturing architectures metadata systems data dictionaries databases and applications Organizational skills to work in a fast paced environment on multiple projects and tasks concurrently while also working with the vast array of information gathered during elicit ation and analysis and to cope with rapidly changing information  \n",
       "1                                                                                                                                                                                                                                                                                                                                                                                                                                                                                                                                                                                                                                                                                                                                      An exciting Data Architect role has just become available on an initial month contract The data architect will be supporting a high profile portfolio of programmes a t a leading global bank based in Singapore About the Data Architect Role In this business critical role you will be tasked to provide vision leadership analysis and design expertise in creating and executing an Enterprise Data Strategy for a portfolio of programmes a t the group level You should own all data modelling aspects of integrating Bank Service Catalogue data with any new data sources specific to the programmes they are covering and support Senior Project Managers in all aspects of data delivery Key Responsibilities Create data strategy for the program based on the banks standard architecture collaborate with technology and management teams to understand structural requirements and define standards for how data will be stored consumed integrated and managed across the program Develop maintain and evan gel i ze data architecture principles policies and standards Work with business analysts data office source system support teams and other partners to prioritise and drive the data deliverables across multiple data platform efforts such as data acquisition data modelling data distribution data analytics and reporting Work closely with business leaders proactively communicating and collaborating with them throughout the entire delivery lifecycle Provide leadership and guidance for developing and maintaining data architecture and data quality management framework standards which adhere to industry best practices Articulate the trade offs benefits and risks of all architecture and design solutions as in when required Collaborate closely with technology data office and business partners to define and implement effective and efficient solutions to business challenges and opportunities that require data management or data analytics involvement Possess strong understanding of data modelling tools and standards ETL tools and big data technologies Create a culture of data transparency and data driven decision making by listening for the pain points and concrete ly showing how you can solve them Clear and concise communication interpersonal organisational and team building skills business judgement and proven leadership To succeed in this Data Architect role you need strong data management data analytics and data visualisation expertise Key Requirements years exp hands on data architecture data integration business intelligence and data analysis technologies A t least years of exp in leading data delivery teams with architect capacity In depth understanding of data integration best practices leading industry applications amp features such as master data management entity resolution data quality assessment metadata management etc Strong people management skills including the ability to provide candid constructive feedback to analysts and project team members with a focus on accountability and development for team and self Must be comfortable working with all project stakeholders including business users architects project managers business analysts developers test analysts and production support team Certification in TO GAF highly desired Documentation Data Strategy Target Data Architecture Data Classification Reference Architecture Data Quality framework etc Artefacts Business capability models future state architecture roadmap s conceptual data models business context diagrams etc Process Data Modelling As Is To Be Visio Enterprise Architect Erwin Etc Strong data architecture skills using Big Data Hive Spark H Base Had oop ka kf a Sol r SQL NO SQL Microstrategy or Tableau Presentation Skills Data Story telling using visualisation s is must This leading global bank needs no introduction and is recognised as the leader in its field If you fit the above requirements and open to the challenge based on an initial month contract with view to convert to permanent then please apply today Robert Walters Singapore Pte Ltd ROC No E EA Licence No C EA Registration No R Don Zhao  \n",
       "2                                                                                                                                                                                                                                                                                                                                                                                                                                                                                                                                                                                                                                                                                                                                                                                                                                                                                                                                                                                                                                                                                                                                                                                                                                                                                                                                                                                                                                                                                                                                                                         Leading the way in International Banking We support the people and companies driving investment trade and wealth creation across Asia Africa and the Middle East And our heritage and values are expressed in our brand promise here for good See our Brand and Values As a Data Analyst you will be tasked with managing all aspects of any new work project assessments thoroughly from inception to delivery You will need to build close working relationships with chief data office to design and implement specific data requirements based on bank data standards In addition as Data Analyst you will also work closely with Project teams partners and rd party vendors Key Roles and Responsibilities Work closely with business users to understand their data analysis needs requirements and build specifications that will include clear definition of business value for data analysis approach for extracting the data required from Golden Sources and definition of business rules logic This role will require an alignment to the Bank Data Quality Management Framework to ensure data quality controls governance and compliance is aligned with the Bank Data Strategy and Architecture Proactively develop use cases for the application of data analytics to meet different business needs Build data models scenarios and demonstrate to business the possibilities of generating insights Partner with system and data owner to establish to document Data Standards of individual critical data attributes Perform data quality controls assessment identify gaps and follow up with data owners for remediation Responsible for standard advanced profiling of data attributes to assess data quality Conduct gap analysis against the established DQ MF framework amp guidelines to assess levels of adherence Support transition of data quality and data governance capabilities into B AU You will need to develop a standard set of analytic tools to enable business to perform data analytics Provide data readiness reviews before implementation and manage any issues which may arise from this Data Visualisation This role highly require data story telling skills using data visualisation tools like Microstrategy Tableau etc Qualifications and Skills Documentation Data Dictionary Data Modelling Data Lineage Business Rules DQ Rules Data Standards Etc Report Types Gap Analysis Problem Analysis Completeness Dashboard s Etc Process Data Modelling As Is To Be Visio Enterprise Architect Erwin Etc Strong query language skills SQL Hive H Base ETL Good experience with Business Intelligence tools and Decision Support Systems Strong data analysis skills using Hive Spark Python R Microstrategy and Tableau Proven experience in working with key stakeholders within the business Proven problem solving skills Proven Experience in Data Management and Data Quality Management techniques Stakeholder Management Analysis Presentation Skills Data Story telling using visualisation s is must Soft Skills Communication Negotiation Relationship Building Influencing We are committed to building a culture that fosters a diverse and inclusive environment that free from bias where everyone can realise their full potential and make a positive contribution This is just one of our values that is expressed in our brand promise here for good Apply Now  \n",
       "3  Leading the way in International Banking We support the people and companies driving investment trade and wealth creation across Asia Africa and the Middle East And our heritage and values are expressed in our brand promise here for good See our Brand and Values The COO Business Services amp Controls team require a Data Architect to provide vision leadership analysis and design expertise in creating and executing an Enterprise Data Strategy for Group COO Projects like Information amp Cyber security ICS transformation in the bank The successful candidate should own all data modelling aspects of integrating Bank Service Catalogue data with any new data sources specific to ICS and support Senior Project Manager in all aspects of data delivery Key Roles and Responsibilities Create Data Strategy for ICS Program based on banks standard architecture collaborate with technology CDO and management teams to understand structural requirements and define standards for how data will be stored consumed integrated and managed across the program Develop maintain and evan gel i ze data architecture principles policies and standards Work with business analysts CDO source system support teams and other partners to prioritize and drive the data deliverables across multiple data platform efforts such as data acquisition data modelling data distribution data analytics and reporting Work closely with business leaders proactively communicating and collaborating with them throughout the entire delivery lifecycle Provide leadership and guidance for developing and maintaining data architecture and DQ MF standards which adhere to industry best practices Articulate the trade offs benefits and risks of all architecture and design solutions as in when required Collaborate closely with I TO CDO and business partners to define and implement effective and efficient solutions to business challenges and opportunities that require data management or data analytics involvement Possess strong understanding of data modelling tools and standards ETL tools and big data technologies Create a culture of data transparency and data driven decision making by listening for the pain points and concrete ly showing how you can solve them Work with the development teams in iterative sprints to implement the model and optimize the performance and scalability of the system through to production Clear and concise communication interpersonal organizational and team building skills business judgment and proven leadership This role highly require candidate with strong data management data analytics and data visualisation expertise Qualifications years exp hands on data architecture data integration business intelligence and data analysis technologies A t least years of exp in leading data delivery teams with architect capacity In depth understanding of data integration best practices leading industry applications amp features such as master data management entity resolution data quality assessment metadata management etc Strong people management skills including the ability to provide candid constructive feedback to analysts and project team members with a focus on accountability and development for team and self Must be comfortable working with all project stakeholders including business users architects project managers business analysts developers test analysts and production support team Able to creatively apply analytical solutions to business problems and can think out of the box in adapting to changes Ability to work under constant pressure to tight deadlines and deliver high quality output Certification in TO GAF highly desired Skills Documentation Data Strategy Target Data Architecture Data Classification Reference Architecture Data Quality framework etc Artefacts Business capability models future state architecture roadmap s conceptual data models business context diagrams etc Process Data Modelling As Is To Be Visio Enterprise Architect Erwin Etc Project Management Methodologies Waterfall SDL C Agile S crum etc Strong data architecture skills using Big Data Hive Spark H Base Had oop ka kf a Sol r SQL NO SQL Microstrategy or Tableau Experience in building conversational BI Artificial Intelligence Machine Learning highly desired Proven Experience in Data Architecture Data Management and Data Quality Management techniques Stakeholder Management Analysis Presentation Skills Data Story telling using visualisation s is must Soft Skills Communication Negotiation Relationship Building Influencing We are committed to building a culture that fosters a diverse and inclusive environment that free from bias where everyone can realise their full potential and make a positive contribution This is just one of our values that is expressed in our brand promise here for good Apply Now  \n",
       "4                                                                                                                                                                                                                                                                                                                                                                                                                                                                                                                                                                                                                                                                                                                                                                                                                                                                                                                                                                                                                                                                                                                                                                                                                                                                                                                                                                                                                                                                                                                                                                                                                                                                                                                                                                                                                                                                                                                                                                                                                                                                                                                                                                                                                                                                                                                           This role reports to the project lead Retail Banking Data Management The successful candidate will adopt best practices and a structured approach towards project management and facilitate country deployment of DQ MF policy and procedures enhance data ownership and capabilities of existing team provide independent assurance of ownership documentation and controls in RB Data Management process Key Roles and Responsibilities Partner with system and process owner to establish end to end lineage of individual data attributes Perform controls assessment identify gaps and follow up with business owners for remediation Responsible for profiling of data attributes to assess quality Define and monitor a t a sub work stream level key risk and issues and manage them as defined in PMP Conduct gap analysis against the established framework amp guidelines to assess levels of adherence Work closely with the system SMEs to implement enhance data quality controls and documentation Support transition of data quality and data governance capabilities into B AU Qualifications and Skills Degree in Accounting Statistics or Computer Science specializing in Information Management or equivalent amp PM certifications required PMP CAP M etc years of work experience in Banking domain involving one or more of the following Core Banking Cards amp Lending products Client on boarding or Due diligence Regulatory or Internal reporting sanctions anti money laundering Risk Management Market Credit or Operational Data Governance or I T or data analysis profiling roles supporting the above areas Strong MS Office skills required Knowledge and experience of SQL experience of working with data profiling and metadata tools will be added advantage Strong communication skills oral written and presentation Able to manage communications a t senior level with process owners and reporting owners in Retail Banking on matters regarding data management Able to work independently and familiar with SC B systems and processes Experience of working with data profiling and metadata tools What you can expect from the role Challenging deadlines Interconnected delivery streams requiring on the ground programme management expertise to effectively manage dependencies critical path amp interlock s Significantly high numbers of stakeholders with diverse viewpoints on data quality amp levels of controls required within respective functions Countless conversations and negotiations with multiple stakeholders across multiple locations Satisfaction in delivering against a key objective for the Group  "
      ]
     },
     "execution_count": 50,
     "metadata": {},
     "output_type": "execute_result"
    }
   ],
   "source": [
    "#df_title = df['title'].copy()\n",
    "df_concat = pd.concat([df['title'], X], axis=1)\n",
    "df_concat.head()"
   ]
  },
  {
   "cell_type": "code",
   "execution_count": 51,
   "metadata": {},
   "outputs": [],
   "source": [
    "# Function to group the job titles into Intern, Data Engineer, Data Scientist, Data Analyst and into their respective Senior position\n",
    "\n",
    "def group_title(x):\n",
    "    \n",
    "    x = x.lower()\n",
    "    if 'intern' in x:\n",
    "        x = 'intern'\n",
    "        return x\n",
    "    \n",
    "    if 'engineer' in x:\n",
    "        if ('avp' in x) or ('vp' in x) or ('senior' in x) or ('chief' in x):\n",
    "            x = 'senior data engineer'\n",
    "            return x\n",
    "        else:\n",
    "            x = 'data engineer'\n",
    "            return x\n",
    "        \n",
    "    elif 'quantitative analyst' in x:\n",
    "        if ('avp' in x) or ('vp' in x) or ('senior' in x) or ('chief' in x):\n",
    "            x = 'senior data scientist'\n",
    "            return x\n",
    "        else:\n",
    "            x = 'data scientist'\n",
    "            return x\n",
    "        \n",
    "    elif 'data science' in x:\n",
    "        if ('avp' in x) or ('vp' in x) or ('senior' in x) or ('chief' in x):\n",
    "            x = 'senior data scientist'\n",
    "            return x\n",
    "        else:\n",
    "            x = 'data scientist'\n",
    "            return x\n",
    "        \n",
    "    elif 'data scientist' in x:\n",
    "        if ('avp' in x) or ('vp' in x) or ('senior' in x) or ('chief' in x):\n",
    "            x = 'senior data scientist'\n",
    "            return x\n",
    "        else:\n",
    "            x = 'data scientist'\n",
    "            return x\n",
    "    \n",
    "    elif 'analyst' in x:\n",
    "        if ('avp' in x) or ('vp' in x) or ('senior' in x) or ('chief' in x):\n",
    "            x = 'senior data analyst'\n",
    "            return x\n",
    "        else:\n",
    "            x = 'data analyst'\n",
    "            return x\n",
    "    else:\n",
    "        x = 'Others'\n",
    "        return x\n",
    "\n",
    "\n"
   ]
  },
  {
   "cell_type": "code",
   "execution_count": 52,
   "metadata": {},
   "outputs": [],
   "source": [
    "df_concat['title'] = df_concat['title'].apply(group_title)"
   ]
  },
  {
   "cell_type": "code",
   "execution_count": 53,
   "metadata": {},
   "outputs": [
    {
     "data": {
      "text/plain": [
       "data analyst             562\n",
       "data scientist           179\n",
       "Others                   178\n",
       "data engineer            103\n",
       "intern                    51\n",
       "senior data engineer      32\n",
       "senior data analyst       21\n",
       "senior data scientist     21\n",
       "Name: title, dtype: int64"
      ]
     },
     "execution_count": 53,
     "metadata": {},
     "output_type": "execute_result"
    }
   ],
   "source": [
    "df_concat['title'].value_counts()"
   ]
  },
  {
   "cell_type": "code",
   "execution_count": 54,
   "metadata": {},
   "outputs": [
    {
     "data": {
      "text/plain": [
       "array(['senior data analyst', 'Others', 'data analyst',\n",
       "       'senior data engineer', 'data engineer', 'data scientist',\n",
       "       'intern', 'senior data scientist'], dtype=object)"
      ]
     },
     "execution_count": 54,
     "metadata": {},
     "output_type": "execute_result"
    }
   ],
   "source": [
    "df_concat['title'].unique()"
   ]
  },
  {
   "cell_type": "code",
   "execution_count": 55,
   "metadata": {},
   "outputs": [],
   "source": [
    "# The job description column\n",
    "T = df_concat['jd']\n",
    "T = T.apply(split_words)"
   ]
  },
  {
   "cell_type": "code",
   "execution_count": 56,
   "metadata": {},
   "outputs": [
    {
     "data": {
      "text/plain": [
       "data analyst             562\n",
       "data scientist           179\n",
       "Others                   178\n",
       "data engineer            103\n",
       "intern                    51\n",
       "senior data engineer      32\n",
       "senior data analyst       21\n",
       "senior data scientist     21\n",
       "Name: title, dtype: int64"
      ]
     },
     "execution_count": 56,
     "metadata": {},
     "output_type": "execute_result"
    }
   ],
   "source": [
    "df_title = df_concat['title']\n",
    "df_title.value_counts()"
   ]
  },
  {
   "cell_type": "code",
   "execution_count": 57,
   "metadata": {},
   "outputs": [],
   "source": [
    "#split data into training and test set\n",
    "from sklearn.model_selection import train_test_split, cross_val_score\n",
    "\n",
    "T_train, T_test, s_train, s_test = train_test_split(T, df_title, test_size=0.3, random_state = 0)"
   ]
  },
  {
   "cell_type": "code",
   "execution_count": 58,
   "metadata": {},
   "outputs": [
    {
     "data": {
      "text/plain": [
       "CountVectorizer(analyzer=u'word', binary=False, decode_error=u'strict',\n",
       "        dtype=<type 'numpy.int64'>, encoding=u'utf-8', input=u'content',\n",
       "        lowercase=True, max_df=1.0, max_features=None, min_df=4,\n",
       "        ngram_range=(1, 2), preprocessor=None, stop_words='english',\n",
       "        strip_accents=None, token_pattern=u'(?u)\\\\b\\\\w\\\\w+\\\\b',\n",
       "        tokenizer=None, vocabulary=None)"
      ]
     },
     "execution_count": 58,
     "metadata": {},
     "output_type": "execute_result"
    }
   ],
   "source": [
    "# Create Bag of Words model\n",
    "from sklearn.feature_extraction.text import CountVectorizer\n",
    "\n",
    "# declare CountVectorizer\n",
    "cv = CountVectorizer(ngram_range=(1, 2), stop_words='english', min_df=4)\n",
    "cv.fit(T_train)"
   ]
  },
  {
   "cell_type": "code",
   "execution_count": 59,
   "metadata": {},
   "outputs": [
    {
     "name": "stdout",
     "output_type": "stream",
     "text": [
      "# of features: 11151\n"
     ]
    }
   ],
   "source": [
    "# Lets check the length of our data that is in a vectorized state\n",
    "\n",
    "print('# of features: {}'.format( len(cv.get_feature_names()) ))"
   ]
  },
  {
   "cell_type": "code",
   "execution_count": 60,
   "metadata": {},
   "outputs": [
    {
     "name": "stdout",
     "output_type": "stream",
     "text": [
      "[u'aas', u'aba', u'aba ms', u'aber', u'aber coll', u'aber com', u'aber offer', u'aber offices', u'aber ranked', u'abilities', u'abilities regulate', u'ability', u'ability adapt', u'ability apply', u'ability articulate', u'ability build', u'ability collaborate', u'ability collect', u'ability communicate', u'ability conceptual', u'ability consider', u'ability create', u'ability deliver', u'ability develop', u'ability effectively', u'ability handle', u'ability identify', u'ability influence', u'ability interact', u'ability interpret', u'ability lead', u'ability learn', u'ability manage', u'ability multi', u'ability organize', u'ability ownership', u'ability perform', u'ability pick', u'ability present', u'ability prioritize', u'ability problem', u'ability read', u'ability represent', u'ability solve', u'ability synthesize', u'ability think', u'ability thrive', u'ability translate', u'ability travel', u'ability understand']\n"
     ]
    }
   ],
   "source": [
    "print cv.get_feature_names()[:50]"
   ]
  },
  {
   "cell_type": "code",
   "execution_count": 61,
   "metadata": {},
   "outputs": [],
   "source": [
    "T_train = pd.DataFrame(cv.transform(T_train).todense(), columns=cv.get_feature_names())"
   ]
  },
  {
   "cell_type": "markdown",
   "metadata": {},
   "source": [
    "#### Displays the top 20 most occuring words"
   ]
  },
  {
   "cell_type": "code",
   "execution_count": 62,
   "metadata": {},
   "outputs": [
    {
     "data": {
      "text/plain": [
       "data                4761\n",
       "experience          2491\n",
       "business            2396\n",
       "requirements        1170\n",
       "work                1169\n",
       "management          1162\n",
       "team                1144\n",
       "skills              1108\n",
       "support              934\n",
       "analytics            897\n",
       "knowledge            896\n",
       "development          856\n",
       "analysis             826\n",
       "working              781\n",
       "strong               740\n",
       "learning             734\n",
       "project              729\n",
       "solutions            682\n",
       "technology           643\n",
       "responsibilities     641\n",
       "dtype: int64"
      ]
     },
     "execution_count": 62,
     "metadata": {},
     "output_type": "execute_result"
    }
   ],
   "source": [
    "word_counts = T_train.sum(axis=0)\n",
    "atomic_words_count = word_counts.sort_values(ascending = False).head(20)\n",
    "word_counts.sort_values(ascending = False).head(20)"
   ]
  },
  {
   "cell_type": "code",
   "execution_count": 63,
   "metadata": {},
   "outputs": [
    {
     "data": {
      "text/plain": [
       "<matplotlib.axes._subplots.AxesSubplot at 0x118718110>"
      ]
     },
     "execution_count": 63,
     "metadata": {},
     "output_type": "execute_result"
    },
    {
     "data": {
      "image/png": "[encoded data removed]",
      "text/plain": [
       "<matplotlib.figure.Figure at 0x118718b90>"
      ]
     },
     "metadata": {},
     "output_type": "display_data"
    }
   ],
   "source": [
    "atomic_words_count.plot(kind='bar', figsize=(12,5))"
   ]
  },
  {
   "cell_type": "code",
   "execution_count": 64,
   "metadata": {},
   "outputs": [],
   "source": [
    "T_test = pd.DataFrame(cv.transform(T_test).todense(),\n",
    "                       columns=cv.get_feature_names())"
   ]
  },
  {
   "cell_type": "code",
   "execution_count": 65,
   "metadata": {},
   "outputs": [
    {
     "name": "stdout",
     "output_type": "stream",
     "text": [
      "(802, 11151)\n",
      "(345, 11151)\n",
      "(802,)\n",
      "(345,)\n"
     ]
    }
   ],
   "source": [
    "print T_train.shape\n",
    "print T_test.shape\n",
    "print s_train.shape\n",
    "print s_test.shape"
   ]
  },
  {
   "cell_type": "code",
   "execution_count": 66,
   "metadata": {},
   "outputs": [
    {
     "name": "stdout",
     "output_type": "stream",
     "text": [
      "                       precision    recall  f1-score   support\n",
      "\n",
      "               Others       0.72      0.38      0.50        47\n",
      "         data analyst       0.62      0.97      0.76       168\n",
      "        data engineer       0.88      0.23      0.37        30\n",
      "       data scientist       0.74      0.45      0.56        56\n",
      "               intern       1.00      0.57      0.73        21\n",
      "  senior data analyst       0.00      0.00      0.00         4\n",
      " senior data engineer       0.00      0.00      0.00        11\n",
      "senior data scientist       1.00      0.12      0.22         8\n",
      "\n",
      "          avg / total       0.68      0.66      0.61       345\n",
      "\n"
     ]
    }
   ],
   "source": [
    "# Trying Naive Bayes\n",
    "from sklearn.naive_bayes import GaussianNB\n",
    "from sklearn.metrics import accuracy_score, classification_report, roc_curve, auc, confusion_matrix\n",
    "\n",
    "classifier = GaussianNB()\n",
    "GNB_scores = cross_val_score(classifier, T_train, s_train, cv=5)\n",
    "classifier.fit(T_train, s_train)\n",
    "classifier.score(T_test, s_test)\n",
    "print classification_report(s_test, classifier.predict(T_test))"
   ]
  },
  {
   "cell_type": "markdown",
   "metadata": {},
   "source": [
    "#### NB result looks alright with 0.61."
   ]
  },
  {
   "cell_type": "markdown",
   "metadata": {},
   "source": [
    "### Plotting ROC curve. "
   ]
  },
  {
   "cell_type": "code",
   "execution_count": 67,
   "metadata": {},
   "outputs": [],
   "source": [
    "# Predicting the test set results\n",
    "s_pred = classifier.predict(T_test)"
   ]
  },
  {
   "cell_type": "code",
   "execution_count": 68,
   "metadata": {},
   "outputs": [
    {
     "data": {
      "image/png": "[encoded data removed]",
      "text/plain": [
       "<matplotlib.figure.Figure at 0x118741610>"
      ]
     },
     "metadata": {},
     "output_type": "display_data"
    },
    {
     "data": {
      "image/png": "[encoded data removed]",
      "text/plain": [
       "<matplotlib.figure.Figure at 0x1a39178110>"
      ]
     },
     "metadata": {},
     "output_type": "display_data"
    },
    {
     "data": {
      "image/png": "[encoded data removed]",
      "text/plain": [
       "<matplotlib.figure.Figure at 0x11998d810>"
      ]
     },
     "metadata": {},
     "output_type": "display_data"
    },
    {
     "data": {
      "image/png": "[encoded data removed]",
      "text/plain": [
       "<matplotlib.figure.Figure at 0x1a2a2e7510>"
      ]
     },
     "metadata": {},
     "output_type": "display_data"
    },
    {
     "data": {
      "image/png": "[encoded data removed]",
      "text/plain": [
       "<matplotlib.figure.Figure at 0x1a2a2944d0>"
      ]
     },
     "metadata": {},
     "output_type": "display_data"
    },
    {
     "data": {
      "image/png": "[encoded data removed]",
      "text/plain": [
       "<matplotlib.figure.Figure at 0x1a26b0fad0>"
      ]
     },
     "metadata": {},
     "output_type": "display_data"
    },
    {
     "data": {
      "image/png": "[encoded data removed]",
      "text/plain": [
       "<matplotlib.figure.Figure at 0x1a379323d0>"
      ]
     },
     "metadata": {},
     "output_type": "display_data"
    },
    {
     "data": {
      "image/png": "[encoded data removed]",
      "text/plain": [
       "<matplotlib.figure.Figure at 0x1a2a5cb650>"
      ]
     },
     "metadata": {},
     "output_type": "display_data"
    }
   ],
   "source": [
    "from sklearn.preprocessing import label_binarize\n",
    "\n",
    "categories =[\"Others\", \"data analyst\", \"data engineer\", \"data scientist\", \"intern\", \"senior data analyst\", \"senior data engineer\", \"senior data scientist\"]\n",
    "\n",
    "shat_pp = classifier.predict_proba(T_test)\n",
    "\n",
    "s_test_roc = label_binarize(s_test, classes=categories)\n",
    "\n",
    "# Compute ROC curve and ROC area for each class\n",
    "fpr = dict()\n",
    "tpr = dict()\n",
    "roc_auc = dict()\n",
    "for i in range(len(categories)):\n",
    "    fpr[i], tpr[i], _ = roc_curve(s_test_roc[:, i], shat_pp[:, i])\n",
    "    roc_auc[i] = auc(fpr[i], tpr[i])\n",
    "\n",
    "# Plot of a ROC curve for a specific class\n",
    "for i in range(len(categories)):\n",
    "    plt.figure()\n",
    "    plt.plot(fpr[i], tpr[i], label='ROC curve (area = %0.2f)' % roc_auc[i])\n",
    "    plt.plot([0, 1], [0, 1], 'k--')\n",
    "    plt.xlim([0.0, 1.0])\n",
    "    plt.ylim([0.0, 1.05])\n",
    "    plt.xlabel('False Positive Rate')\n",
    "    plt.ylabel('True Positive Rate')\n",
    "    plt.title('ROC curve for ' + str(categories[i]))\n",
    "    plt.legend(loc=\"lower right\")\n",
    "    plt.show()"
   ]
  },
  {
   "cell_type": "markdown",
   "metadata": {},
   "source": [
    "#### senior data engineer and senior data analyst straight line because of imbalance issue. "
   ]
  },
  {
   "cell_type": "markdown",
   "metadata": {},
   "source": [
    "#### Convert your executive summary into a public blog post of at least 500 words, in which you document your approach in a tutorial for other aspiring data scientists. Link to this in your notebook."
   ]
  },
  {
   "cell_type": "raw",
   "metadata": {},
   "source": [
    "Aspiring data scientists should take note of certain keywords when writing their resume. These keywords will be picked up by ATS filtering system among the stack of other resumes on the desk of the HR department. These keywords will increase the likelihood of getting an interview and being placed in a higher salary group.\n",
    "\n",
    "Aspiring data scientists should first webscrape from the different job search websites for the jobs they are applying for. Data should be scrape with the columns needed to do modelling and prediction. \n",
    "\n",
    "To find the keywords that affect salary, we look at the job description and salary column after some data cleaning. We can further break down the texts using lemmatization or stemmatization. Then we will do CountVectorizer to create the features of words and calculate their total occurences in the text. \n",
    "\n",
    "Based on the different models being experimented, Logistic Regression and Naive Bayes produced pretty good results for our estimation. Classification models do better than Linear models. Linear models like Lasso takes a long time to calculate. Therefore, you might want classify the salary column beforehand. \n",
    "\n",
    "To find keywords that determine the job title, we look at the job description and job title column. This time we are segregating the job titles into classes. At this point the job description has already been cleaned before running it through the CountVectorizer again. Because we already know classification models give pretty good result in the 1st question, we can try it again in this case, which gave us a pretty high score. But be careful of overfitting. Always investigate if have more time if results seems too good to be true."
   ]
  }
 ],
 "metadata": {
  "kernelspec": {
   "display_name": "Python 2",
   "language": "python",
   "name": "python2"
  },
  "language_info": {
   "codemirror_mode": {
    "name": "ipython",
    "version": 2
   },
   "file_extension": ".py",
   "mimetype": "text/x-python",
   "name": "python",
   "nbconvert_exporter": "python",
   "pygments_lexer": "ipython2",
   "version": "2.7.14"
  }
 },
 "nbformat": 4,
 "nbformat_minor": 2
}
